{
 "cells": [
  {
   "cell_type": "code",
   "execution_count": 1,
   "id": "999b71bf",
   "metadata": {},
   "outputs": [],
   "source": [
    "import numpy as np\n",
    "import tensorflow as tf\n",
    "from tensorflow.keras import *"
   ]
  },
  {
   "cell_type": "markdown",
   "id": "85a1407e",
   "metadata": {},
   "source": [
    "# Residual Network Architechture via Model Subclassing"
   ]
  },
  {
   "cell_type": "markdown",
   "id": "2bb19080",
   "metadata": {},
   "source": [
    "### Convolutional Residual Block"
   ]
  },
  {
   "cell_type": "code",
   "execution_count": 32,
   "id": "5291413a",
   "metadata": {},
   "outputs": [],
   "source": [
    "class ConvResidualBlock(models.Model):\n",
    "    def __init__(self, n_layers=2, filters=32, size=(3, 3), strides=(1, 1), activation='relu', **kwargs):\n",
    "        super().__init__(**kwargs)\n",
    "        self.hidden = [layers.Conv2D(filters, kernel_size=size, strides=strides, \n",
    "                                     activation=activation) for _ in range(n_layers - 1)]\n",
    "        self.out = layers.Conv2D(filters, kernel_size=size, strides=strides)\n",
    "\n",
    "    def call(self, inputs):\n",
    "        x = inputs\n",
    "        for layer in self.hidden:\n",
    "            x = layer(x)\n",
    "        x = self.out(x)\n",
    "        x = layers.Activation('relu')(x + inputs)\n",
    "        return x"
   ]
  },
  {
   "cell_type": "markdown",
   "id": "ccff8df7",
   "metadata": {},
   "source": [
    "### Dense Residual Block"
   ]
  },
  {
   "cell_type": "code",
   "execution_count": 34,
   "id": "3a04fcd1",
   "metadata": {},
   "outputs": [],
   "source": [
    "class DenseResidualBlock(models.Model):\n",
    "    def __init__(self, n_layers=2, units=32, activation='relu', **kwargs):\n",
    "        super().__init__(**kwargs)\n",
    "        self.hidden = [layers.Dense(units, activation=activation) for _ in range(n_layers - 1)]\n",
    "        self.out = layers.Dense(units)\n",
    "    \n",
    "    def call(self, inputs):\n",
    "        x = inputs\n",
    "        for layer in self.hidden:\n",
    "            x = layer(x)\n",
    "        x = self.out(x)\n",
    "        x = layers.Activation('relu')(x + inputs)\n",
    "        return x"
   ]
  },
  {
   "cell_type": "markdown",
   "id": "1a9ab46a",
   "metadata": {},
   "source": [
    "##  Residual Network Model"
   ]
  },
  {
   "cell_type": "code",
   "execution_count": 35,
   "id": "964c4d31",
   "metadata": {},
   "outputs": [],
   "source": [
    "class ResidualNetwork(models.Model):\n",
    "    def __init__(self, **kwargs):\n",
    "        super().__init__(**kwargs)\n",
    "        self.hidden = layers.Dense(32, activation='relu')\n",
    "        self.conv_block = ConvResidualBlock(2, filters=32)\n",
    "        self.dense_block = DenseResidualBlock(2, units=64)\n",
    "        self.out = layers.Dense(1, activation='sigmoid')\n",
    "        \n",
    "        \n",
    "    \n",
    "    def call(self, inputs):\n",
    "        x = self.hidden(inputs)\n",
    "        x = self.conv_block(x)\n",
    "        x = layers.Flatten()(x)\n",
    "        for _ in range(3):\n",
    "            x = self.dense_block(x)\n",
    "        return self.out(x)"
   ]
  },
  {
   "cell_type": "code",
   "execution_count": 46,
   "id": "f1b792df",
   "metadata": {},
   "outputs": [],
   "source": [
    "model = ResidualNetwork()"
   ]
  },
  {
   "cell_type": "code",
   "execution_count": 56,
   "id": "a2ac4f52",
   "metadata": {},
   "outputs": [],
   "source": [
    "block = DenseResidualBlock(2, 32)"
   ]
  },
  {
   "cell_type": "code",
   "execution_count": 59,
   "id": "bfb4be4d",
   "metadata": {},
   "outputs": [
    {
     "data": {
      "text/plain": [
       "<tf.Tensor: shape=(1, 32), dtype=float32, numpy=\n",
       "array([[1.030118  , 1.1409507 , 1.0800962 , 0.94833815, 0.9732132 ,\n",
       "        1.0400605 , 0.9040522 , 0.9586142 , 1.1621989 , 1.2069325 ,\n",
       "        0.9703806 , 1.2253554 , 0.975372  , 0.98463625, 0.709975  ,\n",
       "        0.9778851 , 0.97617006, 1.1411189 , 1.1223145 , 1.0881917 ,\n",
       "        1.1316369 , 1.1616691 , 0.91669226, 0.87061214, 1.1586074 ,\n",
       "        1.2213728 , 0.80080056, 0.86393   , 1.0704875 , 1.1496078 ,\n",
       "        0.89128435, 0.9047879 ]], dtype=float32)>"
      ]
     },
     "execution_count": 59,
     "metadata": {},
     "output_type": "execute_result"
    }
   ],
   "source": [
    "block(tf.ones(shape=(1,1)))"
   ]
  },
  {
   "cell_type": "code",
   "execution_count": 60,
   "id": "fcd140e5",
   "metadata": {},
   "outputs": [
    {
     "name": "stdout",
     "output_type": "stream",
     "text": [
      "Model: \"dense_residual_block_7\"\n",
      "_________________________________________________________________\n",
      " Layer (type)                Output Shape              Param #   \n",
      "=================================================================\n",
      " dense_27 (Dense)            multiple                  64        \n",
      "                                                                 \n",
      " dense_28 (Dense)            multiple                  1056      \n",
      "                                                                 \n",
      "=================================================================\n",
      "Total params: 1,120\n",
      "Trainable params: 1,120\n",
      "Non-trainable params: 0\n",
      "_________________________________________________________________\n"
     ]
    }
   ],
   "source": [
    "block.summary()"
   ]
  },
  {
   "cell_type": "code",
   "execution_count": 53,
   "id": "fdd8f4e4",
   "metadata": {},
   "outputs": [
    {
     "data": {
      "image/png": "[encoded data removed]",
      "text/plain": [
       "<IPython.core.display.Image object>"
      ]
     },
     "execution_count": 53,
     "metadata": {},
     "output_type": "execute_result"
    }
   ],
   "source": [
    "utils.plot_model(block, show_shapes=True)"
   ]
  },
  {
   "cell_type": "code",
   "execution_count": null,
   "id": "af03516b",
   "metadata": {},
   "outputs": [],
   "source": []
  },
  {
   "cell_type": "code",
   "execution_count": 37,
   "id": "4a3bfaf3",
   "metadata": {
    "scrolled": false
   },
   "outputs": [
    {
     "ename": "InvalidArgumentError",
     "evalue": "Exception encountered when calling layer \"dense_residual_block_4\" (type DenseResidualBlock).\n\nIncompatible shapes: [1,64] vs. [1,800] [Op:AddV2]\n\nCall arguments received:\n  • inputs=tf.Tensor(shape=(1, 800), dtype=float32)",
     "output_type": "error",
     "traceback": [
      "\u001b[0;31m---------------------------------------------------------------------------\u001b[0m",
      "\u001b[0;31mInvalidArgumentError\u001b[0m                      Traceback (most recent call last)",
      "\u001b[0;32m/var/folders/vy/dnbxsfj12734sb0xrbqqq34m0000gn/T/ipykernel_1151/1461322114.py\u001b[0m in \u001b[0;36m<module>\u001b[0;34m\u001b[0m\n\u001b[0;32m----> 1\u001b[0;31m \u001b[0mmodel\u001b[0m\u001b[0;34m(\u001b[0m\u001b[0mtf\u001b[0m\u001b[0;34m.\u001b[0m\u001b[0mones\u001b[0m\u001b[0;34m(\u001b[0m\u001b[0mshape\u001b[0m\u001b[0;34m=\u001b[0m\u001b[0;34m(\u001b[0m\u001b[0;36m1\u001b[0m\u001b[0;34m,\u001b[0m\u001b[0;36m5\u001b[0m\u001b[0;34m,\u001b[0m\u001b[0;36m5\u001b[0m\u001b[0;34m,\u001b[0m\u001b[0;36m1\u001b[0m\u001b[0;34m)\u001b[0m\u001b[0;34m)\u001b[0m\u001b[0;34m)\u001b[0m\u001b[0;34m\u001b[0m\u001b[0;34m\u001b[0m\u001b[0m\n\u001b[0m",
      "\u001b[0;32m/opt/homebrew/Caskroom/miniforge/base/envs/dl/lib/python3.9/site-packages/keras/utils/traceback_utils.py\u001b[0m in \u001b[0;36merror_handler\u001b[0;34m(*args, **kwargs)\u001b[0m\n\u001b[1;32m     65\u001b[0m     \u001b[0;32mexcept\u001b[0m \u001b[0mException\u001b[0m \u001b[0;32mas\u001b[0m \u001b[0me\u001b[0m\u001b[0;34m:\u001b[0m  \u001b[0;31m# pylint: disable=broad-except\u001b[0m\u001b[0;34m\u001b[0m\u001b[0;34m\u001b[0m\u001b[0m\n\u001b[1;32m     66\u001b[0m       \u001b[0mfiltered_tb\u001b[0m \u001b[0;34m=\u001b[0m \u001b[0m_process_traceback_frames\u001b[0m\u001b[0;34m(\u001b[0m\u001b[0me\u001b[0m\u001b[0;34m.\u001b[0m\u001b[0m__traceback__\u001b[0m\u001b[0;34m)\u001b[0m\u001b[0;34m\u001b[0m\u001b[0;34m\u001b[0m\u001b[0m\n\u001b[0;32m---> 67\u001b[0;31m       \u001b[0;32mraise\u001b[0m \u001b[0me\u001b[0m\u001b[0;34m.\u001b[0m\u001b[0mwith_traceback\u001b[0m\u001b[0;34m(\u001b[0m\u001b[0mfiltered_tb\u001b[0m\u001b[0;34m)\u001b[0m \u001b[0;32mfrom\u001b[0m \u001b[0;32mNone\u001b[0m\u001b[0;34m\u001b[0m\u001b[0;34m\u001b[0m\u001b[0m\n\u001b[0m\u001b[1;32m     68\u001b[0m     \u001b[0;32mfinally\u001b[0m\u001b[0;34m:\u001b[0m\u001b[0;34m\u001b[0m\u001b[0;34m\u001b[0m\u001b[0m\n\u001b[1;32m     69\u001b[0m       \u001b[0;32mdel\u001b[0m \u001b[0mfiltered_tb\u001b[0m\u001b[0;34m\u001b[0m\u001b[0;34m\u001b[0m\u001b[0m\n",
      "\u001b[0;32m/var/folders/vy/dnbxsfj12734sb0xrbqqq34m0000gn/T/ipykernel_1151/1950637127.py\u001b[0m in \u001b[0;36mcall\u001b[0;34m(self, inputs)\u001b[0m\n\u001b[1;32m     12\u001b[0m         \u001b[0mx\u001b[0m \u001b[0;34m=\u001b[0m \u001b[0mlayers\u001b[0m\u001b[0;34m.\u001b[0m\u001b[0mFlatten\u001b[0m\u001b[0;34m(\u001b[0m\u001b[0;34m)\u001b[0m\u001b[0;34m(\u001b[0m\u001b[0mx\u001b[0m\u001b[0;34m)\u001b[0m\u001b[0;34m\u001b[0m\u001b[0;34m\u001b[0m\u001b[0m\n\u001b[1;32m     13\u001b[0m         \u001b[0;32mfor\u001b[0m \u001b[0m_\u001b[0m \u001b[0;32min\u001b[0m \u001b[0mrange\u001b[0m\u001b[0;34m(\u001b[0m\u001b[0;36m3\u001b[0m\u001b[0;34m)\u001b[0m\u001b[0;34m:\u001b[0m\u001b[0;34m\u001b[0m\u001b[0;34m\u001b[0m\u001b[0m\n\u001b[0;32m---> 14\u001b[0;31m             \u001b[0mx\u001b[0m \u001b[0;34m=\u001b[0m \u001b[0mself\u001b[0m\u001b[0;34m.\u001b[0m\u001b[0mdense_block\u001b[0m\u001b[0;34m(\u001b[0m\u001b[0mx\u001b[0m\u001b[0;34m)\u001b[0m\u001b[0;34m\u001b[0m\u001b[0;34m\u001b[0m\u001b[0m\n\u001b[0m\u001b[1;32m     15\u001b[0m         \u001b[0;32mreturn\u001b[0m \u001b[0mself\u001b[0m\u001b[0;34m.\u001b[0m\u001b[0mout\u001b[0m\u001b[0;34m(\u001b[0m\u001b[0mx\u001b[0m\u001b[0;34m)\u001b[0m\u001b[0;34m\u001b[0m\u001b[0;34m\u001b[0m\u001b[0m\n",
      "\u001b[0;32m/var/folders/vy/dnbxsfj12734sb0xrbqqq34m0000gn/T/ipykernel_1151/2640805222.py\u001b[0m in \u001b[0;36mcall\u001b[0;34m(self, inputs)\u001b[0m\n\u001b[1;32m     10\u001b[0m             \u001b[0mx\u001b[0m \u001b[0;34m=\u001b[0m \u001b[0mlayer\u001b[0m\u001b[0;34m(\u001b[0m\u001b[0mx\u001b[0m\u001b[0;34m)\u001b[0m\u001b[0;34m\u001b[0m\u001b[0;34m\u001b[0m\u001b[0m\n\u001b[1;32m     11\u001b[0m         \u001b[0mx\u001b[0m \u001b[0;34m=\u001b[0m \u001b[0mself\u001b[0m\u001b[0;34m.\u001b[0m\u001b[0mout\u001b[0m\u001b[0;34m(\u001b[0m\u001b[0mx\u001b[0m\u001b[0;34m)\u001b[0m\u001b[0;34m\u001b[0m\u001b[0;34m\u001b[0m\u001b[0m\n\u001b[0;32m---> 12\u001b[0;31m         \u001b[0mx\u001b[0m \u001b[0;34m=\u001b[0m \u001b[0mlayers\u001b[0m\u001b[0;34m.\u001b[0m\u001b[0mActivation\u001b[0m\u001b[0;34m(\u001b[0m\u001b[0;34m'relu'\u001b[0m\u001b[0;34m)\u001b[0m\u001b[0;34m(\u001b[0m\u001b[0mx\u001b[0m \u001b[0;34m+\u001b[0m \u001b[0minputs\u001b[0m\u001b[0;34m)\u001b[0m\u001b[0;34m\u001b[0m\u001b[0;34m\u001b[0m\u001b[0m\n\u001b[0m\u001b[1;32m     13\u001b[0m         \u001b[0;32mreturn\u001b[0m \u001b[0mx\u001b[0m\u001b[0;34m\u001b[0m\u001b[0;34m\u001b[0m\u001b[0m\n",
      "\u001b[0;31mInvalidArgumentError\u001b[0m: Exception encountered when calling layer \"dense_residual_block_4\" (type DenseResidualBlock).\n\nIncompatible shapes: [1,64] vs. [1,800] [Op:AddV2]\n\nCall arguments received:\n  • inputs=tf.Tensor(shape=(1, 800), dtype=float32)"
     ]
    }
   ],
   "source": [
    "model(tf.ones(shape=(1,5,5,1)))"
   ]
  },
  {
   "cell_type": "code",
   "execution_count": null,
   "id": "e162745c",
   "metadata": {},
   "outputs": [],
   "source": []
  },
  {
   "cell_type": "code",
   "execution_count": null,
   "id": "7268b328",
   "metadata": {},
   "outputs": [],
   "source": []
  },
  {
   "cell_type": "code",
   "execution_count": null,
   "id": "1e303db0",
   "metadata": {},
   "outputs": [],
   "source": []
  }
 ],
 "metadata": {
  "kernelspec": {
   "display_name": "Python 3 (ipykernel)",
   "language": "python",
   "name": "python3"
  },
  "language_info": {
   "codemirror_mode": {
    "name": "ipython",
    "version": 3
   },
   "file_extension": ".py",
   "mimetype": "text/x-python",
   "name": "python",
   "nbconvert_exporter": "python",
   "pygments_lexer": "ipython3",
   "version": "3.9.9"
  }
 },
 "nbformat": 4,
 "nbformat_minor": 5
}
