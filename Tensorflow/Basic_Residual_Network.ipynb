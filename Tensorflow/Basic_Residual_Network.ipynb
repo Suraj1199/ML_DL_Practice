{
 "cells": [
  {
   "cell_type": "code",
   "execution_count": 1,
   "id": "999b71bf",
   "metadata": {},
   "outputs": [],
   "source": [
    "import numpy as np\n",
    "import tensorflow as tf\n",
    "from tensorflow.keras import *"
   ]
  },
  {
   "cell_type": "markdown",
   "id": "85a1407e",
   "metadata": {},
   "source": [
    "# Residual Network Architechture via Model Subclassing"
   ]
  },
  {
   "cell_type": "markdown",
   "id": "2bb19080",
   "metadata": {},
   "source": [
    "### Convolutional Residual Block"
   ]
  },
  {
   "cell_type": "code",
   "execution_count": 32,
   "id": "5291413a",
   "metadata": {},
   "outputs": [],
   "source": [
    "class ConvResidualBlock(models.Model):\n",
    "    def __init__(self, n_layers=2, filters=32, size=(3, 3), strides=(1, 1), activation='relu', **kwargs):\n",
    "        super().__init__(**kwargs)\n",
    "        self.hidden = [layers.Conv2D(filters, kernel_size=size, strides=strides, \n",
    "                                     activation=activation) for _ in range(n_layers - 1)]\n",
    "        self.out = layers.Conv2D(filters, kernel_size=size, strides=strides)\n",
    "\n",
    "    def call(self, inputs):\n",
    "        x = inputs\n",
    "        for layer in self.hidden:\n",
    "            x = layer(x)\n",
    "        x = self.out(x)\n",
    "        x = layers.Activation('relu')(x + inputs)\n",
    "        return x"
   ]
  }
 ],
 "metadata": {
  "kernelspec": {
   "display_name": "Python 3 (ipykernel)",
   "language": "python",
   "name": "python3"
  },
  "language_info": {
   "codemirror_mode": {
    "name": "ipython",
    "version": 3
   },
   "file_extension": ".py",
   "mimetype": "text/x-python",
   "name": "python",
   "nbconvert_exporter": "python",
   "pygments_lexer": "ipython3",
   "version": "3.9.9"
  }
 },
 "nbformat": 4,
 "nbformat_minor": 5
}
