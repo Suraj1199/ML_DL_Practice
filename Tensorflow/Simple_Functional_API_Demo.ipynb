{
 "cells": [
  {
   "cell_type": "code",
   "execution_count": 1,
   "id": "2855eab1",
   "metadata": {},
   "outputs": [],
   "source": [
    "import numpy as np\n",
    "import matplotlib.pyplot as plt\n",
    "import tensorflow as tf\n",
    "from tensorflow.keras import *"
   ]
  },
  {
   "cell_type": "markdown",
   "id": "d9a30912",
   "metadata": {},
   "source": [
    "### Load MNIST dataset"
   ]
  },
  {
   "cell_type": "code",
   "execution_count": 2,
   "id": "746505f6",
   "metadata": {},
   "outputs": [],
   "source": [
    "(X_train, y_train), (X_test, y_test) = datasets.mnist.load_data()\n",
    "X_train = X_train.astype('float32') / 255\n",
    "X_test = X_test.astype('float32') / 255"
   ]
  },
  {
   "cell_type": "markdown",
   "id": "4906cacc",
   "metadata": {},
   "source": [
    "# Recap Sequential Model"
   ]
  },
  {
   "cell_type": "code",
   "execution_count": 3,
   "id": "bff12fe1",
   "metadata": {},
   "outputs": [
    {
     "name": "stdout",
     "output_type": "stream",
     "text": [
      "Metal device set to: Apple M1\n"
     ]
    },
    {
     "name": "stderr",
     "output_type": "stream",
     "text": [
      "2022-01-27 12:02:08.573570: I tensorflow/core/common_runtime/pluggable_device/pluggable_device_factory.cc:305] Could not identify NUMA node of platform GPU ID 0, defaulting to 0. Your kernel may not have been built with NUMA support.\n",
      "2022-01-27 12:02:08.573649: I tensorflow/core/common_runtime/pluggable_device/pluggable_device_factory.cc:271] Created TensorFlow device (/job:localhost/replica:0/task:0/device:GPU:0 with 0 MB memory) -> physical PluggableDevice (device: 0, name: METAL, pci bus id: <undefined>)\n"
     ]
    }
   ],
   "source": [
    "seq_model = Sequential([\n",
    "                layers.Input(shape=(28, 28)),\n",
    "                layers.Flatten(),\n",
    "                layers.Dense(128, activation='relu'),\n",
    "                layers.Dense(10, \"softmax\")\n",
    "            ])"
   ]
  },
  {
   "cell_type": "markdown",
   "id": "3b86eb54",
   "metadata": {},
   "source": [
    "# Rewrite using Functional API "
   ]
  },
  {
   "cell_type": "code",
   "execution_count": 4,
   "id": "4546a263",
   "metadata": {},
   "outputs": [],
   "source": [
    "model_input = layers.Input(shape=(28,28))"
   ]
  },
  {
   "cell_type": "code",
   "execution_count": 5,
   "id": "016461e0",
   "metadata": {},
   "outputs": [],
   "source": [
    "x = layers.Flatten()(model_input)\n",
    "x = layers.Dense(128, activation='relu')(x)\n",
    "predictions = layers.Dense(10, activation='softmax')(x)"
   ]
  },
  {
   "cell_type": "code",
   "execution_count": 6,
   "id": "82fb46cf",
   "metadata": {},
   "outputs": [],
   "source": [
    "func_model = models.Model(inputs=model_input, outputs=predictions)"
   ]
  },
  {
   "cell_type": "markdown",
   "id": "9b6c5309",
   "metadata": {},
   "source": [
    "### Training"
   ]
  },
  {
   "cell_type": "code",
   "execution_count": 7,
   "id": "7d78ab8d",
   "metadata": {},
   "outputs": [],
   "source": [
    "func_model.compile(loss='sparse_categorical_crossentropy', optimizer='adam', metrics='acc') "
   ]
  },
  {
   "cell_type": "code",
   "execution_count": 8,
   "id": "5e7cedbf",
   "metadata": {},
   "outputs": [
    {
     "name": "stdout",
     "output_type": "stream",
     "text": [
      "Model: \"model\"\n",
      "_________________________________________________________________\n",
      " Layer (type)                Output Shape              Param #   \n",
      "=================================================================\n",
      " input_2 (InputLayer)        [(None, 28, 28)]          0         \n",
      "                                                                 \n",
      " flatten_1 (Flatten)         (None, 784)               0         \n",
      "                                                                 \n",
      " dense_2 (Dense)             (None, 128)               100480    \n",
      "                                                                 \n",
      " dense_3 (Dense)             (None, 10)                1290      \n",
      "                                                                 \n",
      "=================================================================\n",
      "Total params: 101,770\n",
      "Trainable params: 101,770\n",
      "Non-trainable params: 0\n",
      "_________________________________________________________________\n"
     ]
    }
   ],
   "source": [
    "func_model.summary()"
   ]
  },
  {
   "cell_type": "code",
   "execution_count": null,
   "id": "45b4ea91",
   "metadata": {},
   "outputs": [
    {
     "name": "stdout",
     "output_type": "stream",
     "text": [
      "Epoch 1/5\n"
     ]
    },
    {
     "name": "stderr",
     "output_type": "stream",
     "text": [
      "2022-01-27 12:02:08.828077: W tensorflow/core/platform/profile_utils/cpu_utils.cc:128] Failed to get CPU frequency: 0 Hz\n",
      "2022-01-27 12:02:08.928535: I tensorflow/core/grappler/optimizers/custom_graph_optimizer_registry.cc:112] Plugin optimizer for device_type GPU is enabled.\n"
     ]
    },
    {
     "name": "stdout",
     "output_type": "stream",
     "text": [
      "1787/1875 [===========================>..] - ETA: 0s - loss: 0.2632 - acc: 0.9253"
     ]
    }
   ],
   "source": [
    "func_model.fit(X_train, y_train, epochs=5)"
   ]
  },
  {
   "cell_type": "code",
   "execution_count": null,
   "id": "0843098a",
   "metadata": {},
   "outputs": [],
   "source": [
    "func_model.evaluate(X_test, y_test)"
   ]
  }
 ],
 "metadata": {
  "kernelspec": {
   "display_name": "Python 3 (ipykernel)",
   "language": "python",
   "name": "python3"
  },
  "language_info": {
   "codemirror_mode": {
    "name": "ipython",
    "version": 3
   },
   "file_extension": ".py",
   "mimetype": "text/x-python",
   "name": "python",
   "nbconvert_exporter": "python",
   "pygments_lexer": "ipython3",
   "version": "3.9.9"
  }
 },
 "nbformat": 4,
 "nbformat_minor": 5
}
