{
 "cells": [
  {
   "cell_type": "code",
   "execution_count": 4,
   "id": "2855eab1",
   "metadata": {},
   "outputs": [],
   "source": [
    "import numpy as np\n",
    "import matplotlib.pyplot as plt\n",
    "import tensorflow as tf\n",
    "from tensorflow.keras import *"
   ]
  },
  {
   "cell_type": "markdown",
   "id": "d9a30912",
   "metadata": {},
   "source": [
    "### Load MNIST dataset"
   ]
  },
  {
   "cell_type": "code",
   "execution_count": 5,
   "id": "746505f6",
   "metadata": {},
   "outputs": [],
   "source": [
    "(X_train, y_train), (X_test, y_test) = datasets.mnist.load_data()\n",
    "X_train = X_train.astype('float32') / 255\n",
    "X_test = X_test.astype('float32') / 255"
   ]
  },
  {
   "cell_type": "markdown",
   "id": "4906cacc",
   "metadata": {},
   "source": [
    "# Recap Sequential Model"
   ]
  },
  {
   "cell_type": "code",
   "execution_count": 6,
   "id": "bff12fe1",
   "metadata": {},
   "outputs": [
    {
     "name": "stdout",
     "output_type": "stream",
     "text": [
      "Metal device set to: Apple M1\n"
     ]
    },
    {
     "name": "stderr",
     "output_type": "stream",
     "text": [
      "2022-01-27 08:06:06.000993: I tensorflow/core/common_runtime/pluggable_device/pluggable_device_factory.cc:305] Could not identify NUMA node of platform GPU ID 0, defaulting to 0. Your kernel may not have been built with NUMA support.\n",
      "2022-01-27 08:06:06.001112: I tensorflow/core/common_runtime/pluggable_device/pluggable_device_factory.cc:271] Created TensorFlow device (/job:localhost/replica:0/task:0/device:GPU:0 with 0 MB memory) -> physical PluggableDevice (device: 0, name: METAL, pci bus id: <undefined>)\n"
     ]
    }
   ],
   "source": [
    "seq_model = Sequential([\n",
    "                layers.Input(shape=(28, 28)),\n",
    "                layers.Flatten(),\n",
    "                layers.Dense(128, activation='relu'),\n",
    "                layers.Dense(10, \"softmax\")\n",
    "            ])"
   ]
  },
  {
   "cell_type": "markdown",
   "id": "3b86eb54",
   "metadata": {},
   "source": [
    "# Rewrite using Functional API "
   ]
  },
  {
   "cell_type": "code",
   "execution_count": 7,
   "id": "4546a263",
   "metadata": {},
   "outputs": [],
   "source": [
    "model_input = layers.Input(shape=(28,28))"
   ]
  },
  {
   "cell_type": "code",
   "execution_count": 8,
   "id": "016461e0",
   "metadata": {},
   "outputs": [],
   "source": [
    "x = layers.Flatten()(model_input)\n",
    "x = layers.Dense(128, activation='relu')(x)\n",
    "predictions = layers.Dense(10, activation='softmax')(x)"
   ]
  },
  {
   "cell_type": "code",
   "execution_count": 9,
   "id": "82b39aa2",
   "metadata": {},
   "outputs": [],
   "source": [
    "func_model = models.Model(inputs=model_input, outputs=predictions)"
   ]
  }
 ],
 "metadata": {
  "kernelspec": {
   "display_name": "Python 3 (ipykernel)",
   "language": "python",
   "name": "python3"
  },
  "language_info": {
   "codemirror_mode": {
    "name": "ipython",
    "version": 3
   },
   "file_extension": ".py",
   "mimetype": "text/x-python",
   "name": "python",
   "nbconvert_exporter": "python",
   "pygments_lexer": "ipython3",
   "version": "3.9.9"
  }
 },
 "nbformat": 4,
 "nbformat_minor": 5
}
