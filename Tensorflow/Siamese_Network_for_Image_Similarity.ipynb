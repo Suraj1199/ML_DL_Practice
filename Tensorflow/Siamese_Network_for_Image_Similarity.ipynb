{
 "cells": [
  {
   "cell_type": "code",
   "execution_count": 1,
   "id": "b383ad6c",
   "metadata": {},
   "outputs": [],
   "source": [
    "import numpy as np\n",
    "import tensorflow as tf\n",
    "from tensorflow.keras import *"
   ]
  },
  {
   "cell_type": "code",
   "execution_count": 3,
   "id": "04ac5002",
   "metadata": {},
   "outputs": [],
   "source": [
    "class ContrapositiveLoss(losses.Loss):\n",
    "    def __init__(self, margin=1):\n",
    "        super().__init__()\n",
    "        self.margin = margin\n",
    "    \n",
    "    def call(self, y_true, y_pred):\n",
    "        margin_sq = np.max(margin - y_pred, 0)\n",
    "        return np.mean(y_true * np.square(y_pred) + (1 - y_true) * np.square(margin_sq))"
   ]
  },
  {
   "cell_type": "code",
   "execution_count": null,
   "id": "dc6e0441",
   "metadata": {},
   "outputs": [],
   "source": []
  }
 ],
 "metadata": {
  "kernelspec": {
   "display_name": "Python 3 (ipykernel)",
   "language": "python",
   "name": "python3"
  },
  "language_info": {
   "codemirror_mode": {
    "name": "ipython",
    "version": 3
   },
   "file_extension": ".py",
   "mimetype": "text/x-python",
   "name": "python",
   "nbconvert_exporter": "python",
   "pygments_lexer": "ipython3",
   "version": "3.9.9"
  }
 },
 "nbformat": 4,
 "nbformat_minor": 5
}
