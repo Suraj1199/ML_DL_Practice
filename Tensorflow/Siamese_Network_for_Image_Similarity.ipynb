{
 "cells": [
  {
   "cell_type": "code",
   "execution_count": 1,
   "id": "b383ad6c",
   "metadata": {},
   "outputs": [],
   "source": [
    "import numpy as np\n",
    "import matplotlib.pyplot as plt\n",
    "import tensorflow as tf\n",
    "from tensorflow.keras import *"
   ]
  },
  {
   "cell_type": "markdown",
   "id": "c34b67b5",
   "metadata": {},
   "source": [
    "## Load and Preprocess Data"
   ]
  },
  {
   "cell_type": "code",
   "execution_count": 2,
   "id": "d4b5b354",
   "metadata": {},
   "outputs": [],
   "source": [
    "(X_train, y_train), (X_test, y_test) = datasets.fashion_mnist.load_data()"
   ]
  },
  {
   "cell_type": "code",
   "execution_count": 3,
   "id": "a7b1f75c",
   "metadata": {},
   "outputs": [],
   "source": [
    "def generate_image_pairs_with_labels(images, classes):\n",
    "    image_pairs = []\n",
    "    labels = []\n",
    "    sample = lambda x, s: x[np.random.choice(x.shape[0], s)]\n",
    "    \n",
    "    for i in range(10):\n",
    "        similar = images[classes == i]\n",
    "        non_similar = images[classes != i]\n",
    "        size = similar.shape[0] // 2\n",
    "        image_pairs.append([similar, np.concatenate([sample(similar, size), sample(non_similar, size)])])\n",
    "        labels.append(np.concatenate([np.ones(size), np.zeros(size)]))\n",
    "        \n",
    "    image_pairs = np.concatenate(image_pairs, axis=1) / 255.0\n",
    "    labels = np.concatenate(labels)\n",
    "    indices = np.random.permutation(labels.shape[0])\n",
    "    return image_pairs[:, indices], labels[indices]"
   ]
  }
 ],
 "metadata": {
  "kernelspec": {
   "display_name": "Python 3 (ipykernel)",
   "language": "python",
   "name": "python3"
  },
  "language_info": {
   "codemirror_mode": {
    "name": "ipython",
    "version": 3
   },
   "file_extension": ".py",
   "mimetype": "text/x-python",
   "name": "python",
   "nbconvert_exporter": "python",
   "pygments_lexer": "ipython3",
   "version": "3.9.9"
  }
 },
 "nbformat": 4,
 "nbformat_minor": 5
}
