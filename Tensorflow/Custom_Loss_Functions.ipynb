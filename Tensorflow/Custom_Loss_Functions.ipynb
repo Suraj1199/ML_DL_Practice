{
 "cells": [
  {
   "cell_type": "code",
   "execution_count": 11,
   "id": "48433668",
   "metadata": {},
   "outputs": [],
   "source": [
    "import numpy as np\n",
    "import tensorflow as tf\n",
    "from tensorflow.keras import *"
   ]
  },
  {
   "cell_type": "code",
   "execution_count": 12,
   "id": "b0b55328",
   "metadata": {
    "scrolled": true
   },
   "outputs": [
    {
     "name": "stdout",
     "output_type": "stream",
     "text": [
      "x : [0. 1. 2. 3. 4. 5. 6. 7. 8. 9.]\n",
      "y : [ 3.  8. 13. 18. 23. 28. 33. 38. 43. 48.]\n"
     ]
    }
   ],
   "source": [
    "x = np.arange(10, dtype=float)\n",
    "y = 5 * x + 3\n",
    "\n",
    "print('x :', x)\n",
    "print('y :', y)"
   ]
  },
  {
   "cell_type": "markdown",
   "id": "1d391877",
   "metadata": {},
   "source": [
    "## Define Custom Loss Function"
   ]
  },
  {
   "cell_type": "code",
   "execution_count": 36,
   "id": "156478d1",
   "metadata": {},
   "outputs": [],
   "source": [
    "def huber_loss(y_true, y_pred):\n",
    "    threshold = 1\n",
    "    error = y_true - y_pred\n",
    "    small_error = tf.square(error) / 2\n",
    "    big_error = threshold  * (tf.abs(error) - threshold / 2)\n",
    "    return tf.where(tf.abs(error) <= threshold, small_error, big_error)"
   ]
  },
  {
   "cell_type": "code",
   "execution_count": 37,
   "id": "94f254f9",
   "metadata": {},
   "outputs": [
    {
     "name": "stderr",
     "output_type": "stream",
     "text": [
      "2022-01-28 08:33:10.408296: I tensorflow/core/grappler/optimizers/custom_graph_optimizer_registry.cc:112] Plugin optimizer for device_type GPU is enabled.\n",
      "2022-01-28 08:33:11.980523: I tensorflow/core/grappler/optimizers/custom_graph_optimizer_registry.cc:112] Plugin optimizer for device_type GPU is enabled.\n"
     ]
    },
    {
     "data": {
      "text/plain": [
       "array([[53.38612]], dtype=float32)"
      ]
     },
     "execution_count": 37,
     "metadata": {},
     "output_type": "execute_result"
    }
   ],
   "source": [
    "model = Sequential([layers.Dense(1, input_shape=(1,))])\n",
    "\n",
    "model.compile(optimizer='sgd', loss=huber_loss)\n",
    "model.fit(x, y, epochs=500, verbose=0)\n",
    "model.predict([10])"
   ]
  },
  {
   "cell_type": "code",
   "execution_count": 38,
   "id": "08cd946d",
   "metadata": {},
   "outputs": [
    {
     "data": {
      "text/plain": [
       "[<tf.Variable 'dense_12/kernel:0' shape=(1, 1) dtype=float32, numpy=array([[5.1035337]], dtype=float32)>,\n",
       " <tf.Variable 'dense_12/bias:0' shape=(1,) dtype=float32, numpy=array([2.3507814], dtype=float32)>]"
      ]
     },
     "execution_count": 38,
     "metadata": {},
     "output_type": "execute_result"
    }
   ],
   "source": [
    "model.weights"
   ]
  },
  {
   "cell_type": "markdown",
   "id": "22ab9ff5",
   "metadata": {},
   "source": [
    "## Add Hyperparameters to Functions"
   ]
  },
  {
   "cell_type": "code",
   "execution_count": 39,
   "id": "e6a58563",
   "metadata": {},
   "outputs": [],
   "source": [
    "def huber_loss_with_threshold(threshold):\n",
    "    def huber_loss(y_true, y_pred):\n",
    "        error = y_true - y_pred\n",
    "        small_error = tf.square(error) / 2\n",
    "        big_error = threshold  * (tf.abs(error) - threshold / 2)\n",
    "        return tf.where(tf.abs(error) <= threshold, small_error, big_error)\n",
    "    return huber_loss"
   ]
  },
  {
   "cell_type": "markdown",
   "id": "2b425e9a",
   "metadata": {},
   "source": [
    "NOTE: Instead of directly passing the parameter in the ```huber_loss``` function, it has been passed to a wrapper function ```huber_loss_with_threshold```. This is because the loss parameter in ```model.compile``` expects a function with only two parameters i.e. *y_true* and *y_pred*. So to add a hyperparameters, the loss function should be enclosed in a wrapper function that accepts them"
   ]
  },
  {
   "cell_type": "code",
   "execution_count": 45,
   "id": "6721a37f",
   "metadata": {},
   "outputs": [
    {
     "name": "stderr",
     "output_type": "stream",
     "text": [
      "2022-01-28 08:33:40.047313: I tensorflow/core/grappler/optimizers/custom_graph_optimizer_registry.cc:112] Plugin optimizer for device_type GPU is enabled.\n",
      "2022-01-28 08:33:41.605847: I tensorflow/core/grappler/optimizers/custom_graph_optimizer_registry.cc:112] Plugin optimizer for device_type GPU is enabled.\n"
     ]
    },
    {
     "data": {
      "text/plain": [
       "array([[53.37973]], dtype=float32)"
      ]
     },
     "execution_count": 45,
     "metadata": {},
     "output_type": "execute_result"
    }
   ],
   "source": [
    "model = Sequential([layers.Dense(1, input_shape=(1,))])\n",
    "\n",
    "model.compile(optimizer='sgd', loss=huber_loss_with_threshold(threshold=1))\n",
    "model.fit(x, y, epochs=500, verbose=0)\n",
    "model.predict([10])"
   ]
  },
  {
   "cell_type": "code",
   "execution_count": 41,
   "id": "4515df06",
   "metadata": {},
   "outputs": [
    {
     "data": {
      "text/plain": [
       "[<tf.Variable 'dense_13/kernel:0' shape=(1, 1) dtype=float32, numpy=array([[5.07827]], dtype=float32)>,\n",
       " <tf.Variable 'dense_13/bias:0' shape=(1,) dtype=float32, numpy=array([2.5091996], dtype=float32)>]"
      ]
     },
     "execution_count": 41,
     "metadata": {},
     "output_type": "execute_result"
    }
   ],
   "source": [
    "model.weights"
   ]
  },
  {
   "cell_type": "markdown",
   "id": "f3b8c444",
   "metadata": {},
   "source": [
    "## Define Custom Loss as a Class"
   ]
  },
  {
   "cell_type": "code",
   "execution_count": 51,
   "id": "500c2407",
   "metadata": {},
   "outputs": [],
   "source": [
    "class CustomHuberLoss(losses.Loss):\n",
    "    def __init__(self, threshold=1):\n",
    "        super().__init__()\n",
    "        self.threshold = threshold\n",
    "    \n",
    "    def call(self, y_true, y_pred):\n",
    "        error = y_true - y_pred\n",
    "        small_error = tf.square(error) / 2\n",
    "        big_error = self.threshold  * (tf.abs(error) - self.threshold / 2)\n",
    "        return tf.where(tf.abs(error) <= self.threshold, small_error, big_error)"
   ]
  },
  {
   "cell_type": "code",
   "execution_count": 59,
   "id": "81dd105a",
   "metadata": {},
   "outputs": [
    {
     "name": "stderr",
     "output_type": "stream",
     "text": [
      "2022-01-28 09:06:20.460651: I tensorflow/core/grappler/optimizers/custom_graph_optimizer_registry.cc:112] Plugin optimizer for device_type GPU is enabled.\n",
      "2022-01-28 09:06:22.047423: I tensorflow/core/grappler/optimizers/custom_graph_optimizer_registry.cc:112] Plugin optimizer for device_type GPU is enabled.\n"
     ]
    },
    {
     "data": {
      "text/plain": [
       "array([[53.41405]], dtype=float32)"
      ]
     },
     "execution_count": 59,
     "metadata": {},
     "output_type": "execute_result"
    }
   ],
   "source": [
    "model = Sequential([layers.Dense(1, input_shape=(1,))])\n",
    "\n",
    "model.compile(optimizer='sgd', loss=CustomHuberLoss(threshold=1.2))\n",
    "model.fit(x, y, epochs=500, verbose=0)\n",
    "model.predict([10])"
   ]
  },
  {
   "cell_type": "code",
   "execution_count": 61,
   "id": "d920819a",
   "metadata": {},
   "outputs": [
    {
     "data": {
      "text/plain": [
       "[array([[5.1110225]], dtype=float32), array([2.3038254], dtype=float32)]"
      ]
     },
     "execution_count": 61,
     "metadata": {},
     "output_type": "execute_result"
    }
   ],
   "source": [
    "model.get_weights()"
   ]
  },
  {
   "cell_type": "code",
   "execution_count": null,
   "id": "ef5e41e5",
   "metadata": {},
   "outputs": [],
   "source": []
  }
 ],
 "metadata": {
  "kernelspec": {
   "display_name": "Python 3 (ipykernel)",
   "language": "python",
   "name": "python3"
  },
  "language_info": {
   "codemirror_mode": {
    "name": "ipython",
    "version": 3
   },
   "file_extension": ".py",
   "mimetype": "text/x-python",
   "name": "python",
   "nbconvert_exporter": "python",
   "pygments_lexer": "ipython3",
   "version": "3.9.9"
  }
 },
 "nbformat": 4,
 "nbformat_minor": 5
}
