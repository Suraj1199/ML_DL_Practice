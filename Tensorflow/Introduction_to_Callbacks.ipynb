{
 "cells": [
  {
   "cell_type": "code",
   "execution_count": 21,
   "id": "5d57e11a",
   "metadata": {},
   "outputs": [],
   "source": [
    "import numpy as np\n",
    "import pandas as pd\n",
    "import tensorflow\n",
    "from tensorflow.keras import *\n",
    "import datetime\n",
    "import os"
   ]
  },
  {
   "cell_type": "markdown",
   "id": "8ab05052",
   "metadata": {},
   "source": [
    "### Data "
   ]
  },
  {
   "cell_type": "code",
   "execution_count": 22,
   "id": "f59fb3c5",
   "metadata": {},
   "outputs": [],
   "source": [
    "x = np.random.randn(1024, 1)\n",
    "y = 1.25 * x + 2\n",
    "x_train, x_test, y_train, y_test = x[:-64], x[-64:] , y[:-64], y[-64:]"
   ]
  },
  {
   "cell_type": "markdown",
   "id": "96781b11",
   "metadata": {},
   "source": [
    "### Model"
   ]
  },
  {
   "cell_type": "code",
   "execution_count": 23,
   "id": "9e723e11",
   "metadata": {},
   "outputs": [],
   "source": [
    "model = Sequential([layers.Dense(1)])\n",
    "model.compile(optimizer=\"adam\", loss=\"mse\")"
   ]
  },
  {
   "cell_type": "markdown",
   "id": "5a5d55b2",
   "metadata": {},
   "source": [
    "# TensorBoard Callback"
   ]
  },
  {
   "cell_type": "code",
   "execution_count": 24,
   "id": "712f3500",
   "metadata": {},
   "outputs": [],
   "source": [
    "log_dir = os.path.join(\"logs\", datetime.datetime.now().strftime(\"%Y%m%d-%H%M%S\"))\n",
    "tensorboard = callbacks.TensorBoard(log_dir=log_dir)"
   ]
  },
  {
   "cell_type": "markdown",
   "id": "4a9332e1",
   "metadata": {},
   "source": [
    "### Data "
   ]
  },
  {
   "cell_type": "code",
   "execution_count": 3,
   "id": "6b2c3f34",
   "metadata": {},
   "outputs": [],
   "source": [
    "x = np.random.randn(1024, 1)\n",
    "y = 1.25 * x + 2\n",
    "x_train, x_test, y_train, y_test = x[:-64], x[-64:] , y[:-64], y[-64:]"
   ]
  },
  {
   "cell_type": "markdown",
   "id": "1b90a526",
   "metadata": {},
   "source": [
    "### Model"
   ]
  },
  {
   "cell_type": "code",
   "execution_count": 25,
   "id": "8ababbd3",
   "metadata": {},
   "outputs": [],
   "source": [
    "model = Sequential([layers.Dense(1)])\n",
    "model.compile(optimizer=\"adam\", loss=\"mse\")"
   ]
  },
  {
   "cell_type": "code",
   "execution_count": 26,
   "id": "9349242c",
   "metadata": {},
   "outputs": [
    {
     "name": "stdout",
     "output_type": "stream",
     "text": [
      "Epoch 1/5\n",
      "30/30 [==============================] - 0s 4ms/step - loss: 8.8147 - val_loss: 8.5616\n",
      "Epoch 2/5\n",
      "24/30 [=======================>......] - ETA: 0s - loss: 8.4672"
     ]
    },
    {
     "name": "stderr",
     "output_type": "stream",
     "text": [
      "2022-02-10 10:05:39.006271: I tensorflow/core/grappler/optimizers/custom_graph_optimizer_registry.cc:112] Plugin optimizer for device_type GPU is enabled.\n",
      "2022-02-10 10:05:39.131316: I tensorflow/core/grappler/optimizers/custom_graph_optimizer_registry.cc:112] Plugin optimizer for device_type GPU is enabled.\n"
     ]
    },
    {
     "name": "stdout",
     "output_type": "stream",
     "text": [
      "30/30 [==============================] - 0s 3ms/step - loss: 8.5714 - val_loss: 8.3238\n",
      "Epoch 3/5\n",
      "30/30 [==============================] - 0s 3ms/step - loss: 8.3364 - val_loss: 8.0914\n",
      "Epoch 4/5\n",
      "30/30 [==============================] - 0s 3ms/step - loss: 8.1059 - val_loss: 7.8659\n",
      "Epoch 5/5\n",
      "30/30 [==============================] - 0s 3ms/step - loss: 7.8785 - val_loss: 7.6505\n"
     ]
    },
    {
     "data": {
      "text/plain": [
       "<keras.callbacks.History at 0x14a6b83d0>"
      ]
     },
     "execution_count": 26,
     "metadata": {},
     "output_type": "execute_result"
    }
   ],
   "source": [
    "model.fit(x_train, y_train, epochs=5, validation_data=(x_test, y_test), callbacks=[tensorboard])"
   ]
  },
  {
   "cell_type": "code",
   "execution_count": 27,
   "id": "aef42f93",
   "metadata": {
    "scrolled": false
   },
   "outputs": [
    {
     "name": "stdout",
     "output_type": "stream",
     "text": [
      "The tensorboard extension is already loaded. To reload it, use:\n",
      "  %reload_ext tensorboard\n"
     ]
    },
    {
     "data": {
      "text/plain": [
       "Reusing TensorBoard on port 6006 (pid 1132), started 1:48:23 ago. (Use '!kill 1132' to kill it.)"
      ]
     },
     "metadata": {},
     "output_type": "display_data"
    },
    {
     "data": {
      "text/html": [
       "\n",
       "      <iframe id=\"tensorboard-frame-55d0bd8abd9be82a\" width=\"100%\" height=\"800\" frameborder=\"0\">\n",
       "      </iframe>\n",
       "      <script>\n",
       "        (function() {\n",
       "          const frame = document.getElementById(\"tensorboard-frame-55d0bd8abd9be82a\");\n",
       "          const url = new URL(\"/\", window.location);\n",
       "          const port = 6006;\n",
       "          if (port) {\n",
       "            url.port = port;\n",
       "          }\n",
       "          frame.src = url;\n",
       "        })();\n",
       "      </script>\n",
       "    "
      ],
      "text/plain": [
       "<IPython.core.display.HTML object>"
      ]
     },
     "metadata": {},
     "output_type": "display_data"
    }
   ],
   "source": [
    "%load_ext tensorboard\n",
    "%tensorboard --logdir logs"
   ]
  },
  {
   "cell_type": "markdown",
   "id": "4abd16db",
   "metadata": {},
   "source": [
    "---"
   ]
  },
  {
   "cell_type": "markdown",
   "id": "1a751c44",
   "metadata": {},
   "source": [
    "# Model Checkpoint Callback"
   ]
  },
  {
   "cell_type": "markdown",
   "id": "a193bb64",
   "metadata": {},
   "source": [
    "### Save Model"
   ]
  },
  {
   "cell_type": "code",
   "execution_count": 28,
   "id": "2c283cfb",
   "metadata": {},
   "outputs": [],
   "source": [
    "save_model = callbacks.ModelCheckpoint(\"model.h\", verbose=1)"
   ]
  },
  {
   "cell_type": "code",
   "execution_count": 29,
   "id": "3679bcfa",
   "metadata": {},
   "outputs": [
    {
     "name": "stdout",
     "output_type": "stream",
     "text": [
      "Epoch 1/5\n",
      "29/30 [============================>.] - ETA: 0s - loss: 7.6949\n",
      "Epoch 00001: saving model to model.h\n",
      "INFO:tensorflow:Assets written to: model.h/assets\n",
      "30/30 [==============================] - 0s 8ms/step - loss: 7.6627 - val_loss: 7.4290\n",
      "Epoch 2/5\n",
      "25/30 [========================>.....] - ETA: 0s - loss: 7.4288\n",
      "Epoch 00002: saving model to model.h\n",
      "INFO:tensorflow:Assets written to: model.h/assets\n",
      "30/30 [==============================] - 0s 5ms/step - loss: 7.4423 - val_loss: 7.2239\n",
      "Epoch 3/5\n",
      "24/30 [=======================>......] - ETA: 0s - loss: 7.2973\n",
      "Epoch 00003: saving model to model.h\n",
      "INFO:tensorflow:Assets written to: model.h/assets\n",
      "30/30 [==============================] - 0s 6ms/step - loss: 7.2331 - val_loss: 7.0161\n",
      "Epoch 4/5\n",
      "24/30 [=======================>......] - ETA: 0s - loss: 7.0181\n",
      "Epoch 00004: saving model to model.h\n",
      "INFO:tensorflow:Assets written to: model.h/assets\n",
      "30/30 [==============================] - 0s 6ms/step - loss: 7.0262 - val_loss: 6.8131\n",
      "Epoch 5/5\n",
      "24/30 [=======================>......] - ETA: 0s - loss: 6.9127\n",
      "Epoch 00005: saving model to model.h\n",
      "INFO:tensorflow:Assets written to: model.h/assets\n",
      "30/30 [==============================] - 0s 6ms/step - loss: 6.8242 - val_loss: 6.6143\n"
     ]
    },
    {
     "data": {
      "text/plain": [
       "<keras.callbacks.History at 0x148040fa0>"
      ]
     },
     "execution_count": 29,
     "metadata": {},
     "output_type": "execute_result"
    }
   ],
   "source": [
    "model.fit(x_train, y_train, epochs=5, validation_data=(x_test, y_test), callbacks=[save_model])"
   ]
  },
  {
   "cell_type": "markdown",
   "id": "84807cd5",
   "metadata": {},
   "source": [
    "### Save Only Weights"
   ]
  },
  {
   "cell_type": "code",
   "execution_count": 30,
   "id": "dff33ee8",
   "metadata": {},
   "outputs": [],
   "source": [
    "save_weights = callbacks.ModelCheckpoint(\"model.h\", save_weights_only=True, verbose=1)"
   ]
  },
  {
   "cell_type": "code",
   "execution_count": 31,
   "id": "2405d418",
   "metadata": {},
   "outputs": [
    {
     "name": "stdout",
     "output_type": "stream",
     "text": [
      "Epoch 1/5\n",
      "30/30 [==============================] - ETA: 0s - loss: 6.6251\n",
      "Epoch 00001: saving model to model.h\n",
      "30/30 [==============================] - 0s 5ms/step - loss: 6.6251 - val_loss: 6.4232\n",
      "Epoch 2/5\n",
      "24/30 [=======================>......] - ETA: 0s - loss: 6.4080\n",
      "Epoch 00002: saving model to model.h\n",
      "30/30 [==============================] - 0s 3ms/step - loss: 6.4325 - val_loss: 6.2334\n",
      "Epoch 3/5\n",
      "26/30 [=========================>....] - ETA: 0s - loss: 6.3169\n",
      "Epoch 00003: saving model to model.h\n",
      "30/30 [==============================] - 0s 3ms/step - loss: 6.2430 - val_loss: 6.0489\n",
      "Epoch 4/5\n",
      "21/30 [====================>.........] - ETA: 0s - loss: 6.2002\n",
      "Epoch 00004: saving model to model.h\n",
      "30/30 [==============================] - 0s 3ms/step - loss: 6.0578 - val_loss: 5.8689\n",
      "Epoch 5/5\n",
      "25/30 [========================>.....] - ETA: 0s - loss: 5.6507\n",
      "Epoch 00005: saving model to model.h\n",
      "30/30 [==============================] - 0s 3ms/step - loss: 5.8756 - val_loss: 5.6962\n"
     ]
    },
    {
     "data": {
      "text/plain": [
       "<keras.callbacks.History at 0x148068d90>"
      ]
     },
     "execution_count": 31,
     "metadata": {},
     "output_type": "execute_result"
    }
   ],
   "source": [
    "model.fit(x_train, y_train, epochs=5, validation_data=(x_test, y_test), callbacks=[save_weights])"
   ]
  },
  {
   "cell_type": "markdown",
   "id": "b9a23da1",
   "metadata": {},
   "source": [
    "### Monitor and Save Best Checkpoint"
   ]
  },
  {
   "cell_type": "code",
   "execution_count": 32,
   "id": "9483beee",
   "metadata": {},
   "outputs": [],
   "source": [
    "best_val_loss = callbacks.ModelCheckpoint(\"model.h\", monitor='val_loss', save_best_only=True, verbose=1)"
   ]
  },
  {
   "cell_type": "code",
   "execution_count": 33,
   "id": "3c601542",
   "metadata": {},
   "outputs": [
    {
     "name": "stdout",
     "output_type": "stream",
     "text": [
      "Epoch 1/5\n",
      "30/30 [==============================] - ETA: 0s - loss: 5.7004\n",
      "Epoch 00001: val_loss improved from inf to 5.52154, saving model to model.h\n",
      "INFO:tensorflow:Assets written to: model.h/assets\n",
      "30/30 [==============================] - 0s 8ms/step - loss: 5.7004 - val_loss: 5.5215\n",
      "Epoch 2/5\n",
      "25/30 [========================>.....] - ETA: 0s - loss: 5.5939\n",
      "Epoch 00002: val_loss improved from 5.52154 to 5.35012, saving model to model.h\n",
      "INFO:tensorflow:Assets written to: model.h/assets\n",
      "30/30 [==============================] - 0s 8ms/step - loss: 5.5277 - val_loss: 5.3501\n",
      "Epoch 3/5\n",
      "23/30 [======================>.......] - ETA: 0s - loss: 5.3514\n",
      "Epoch 00003: val_loss improved from 5.35012 to 5.18653, saving model to model.h\n",
      "INFO:tensorflow:Assets written to: model.h/assets\n",
      "30/30 [==============================] - 0s 6ms/step - loss: 5.3575 - val_loss: 5.1865\n",
      "Epoch 4/5\n",
      "22/30 [=====================>........] - ETA: 0s - loss: 5.1119\n",
      "Epoch 00004: val_loss improved from 5.18653 to 5.02804, saving model to model.h\n",
      "INFO:tensorflow:Assets written to: model.h/assets\n",
      "30/30 [==============================] - 0s 6ms/step - loss: 5.1918 - val_loss: 5.0280\n",
      "Epoch 5/5\n",
      "23/30 [======================>.......] - ETA: 0s - loss: 4.8607\n",
      "Epoch 00005: val_loss improved from 5.02804 to 4.87180, saving model to model.h\n",
      "INFO:tensorflow:Assets written to: model.h/assets\n",
      "30/30 [==============================] - 0s 6ms/step - loss: 5.0307 - val_loss: 4.8718\n"
     ]
    },
    {
     "data": {
      "text/plain": [
       "<keras.callbacks.History at 0x14ad15bb0>"
      ]
     },
     "execution_count": 33,
     "metadata": {},
     "output_type": "execute_result"
    }
   ],
   "source": [
    "model.fit(x_train, y_train, epochs=5, validation_data=(x_test, y_test), callbacks=[best_val_loss])"
   ]
  },
  {
   "cell_type": "markdown",
   "id": "bd29a2ed",
   "metadata": {},
   "source": [
    "### Track Epochs, Loss and Metrics"
   ]
  },
  {
   "cell_type": "code",
   "execution_count": null,
   "id": "3b395c6b",
   "metadata": {},
   "outputs": [],
   "source": []
  },
  {
   "cell_type": "code",
   "execution_count": 34,
   "id": "d83b9ea8",
   "metadata": {},
   "outputs": [],
   "source": [
    "epoch_weights = callbacks.ModelCheckpoint(\"weights.{epoch:02d}-{loss:.2f}.h5\", save_weights_only=True, verbose=1)"
   ]
  },
  {
   "cell_type": "code",
   "execution_count": 35,
   "id": "1d6b8a73",
   "metadata": {},
   "outputs": [
    {
     "name": "stdout",
     "output_type": "stream",
     "text": [
      "Epoch 1/5\n",
      "29/30 [============================>.] - ETA: 0s - loss: 4.8606\n",
      "Epoch 00001: saving model to .\\weights\\weights.01-4.87.h5\n",
      "30/30 [==============================] - 0s 5ms/step - loss: 4.8746 - val_loss: 4.7148\n",
      "Epoch 2/5\n",
      "23/30 [======================>.......] - ETA: 0s - loss: 4.7961\n",
      "Epoch 00002: saving model to .\\weights\\weights.02-4.72.h5\n",
      "30/30 [==============================] - 0s 3ms/step - loss: 4.7197 - val_loss: 4.5645\n",
      "Epoch 3/5\n",
      "24/30 [=======================>......] - ETA: 0s - loss: 4.6978\n",
      "Epoch 00003: saving model to .\\weights\\weights.03-4.57.h5\n",
      "30/30 [==============================] - 0s 3ms/step - loss: 4.5699 - val_loss: 4.4172\n",
      "Epoch 4/5\n",
      "25/30 [========================>.....] - ETA: 0s - loss: 4.4164\n",
      "Epoch 00004: saving model to .\\weights\\weights.04-4.42.h5\n",
      "30/30 [==============================] - 0s 2ms/step - loss: 4.4225 - val_loss: 4.2755\n",
      "Epoch 5/5\n",
      "25/30 [========================>.....] - ETA: 0s - loss: 4.2564\n",
      "Epoch 00005: saving model to .\\weights\\weights.05-4.28.h5\n",
      "30/30 [==============================] - 0s 3ms/step - loss: 4.2792 - val_loss: 4.1377\n"
     ]
    },
    {
     "data": {
      "text/plain": [
       "<keras.callbacks.History at 0x14ad03eb0>"
      ]
     },
     "execution_count": 35,
     "metadata": {},
     "output_type": "execute_result"
    }
   ],
   "source": [
    "model.fit(x_train, y_train, epochs=5, validation_data=(x_test, y_test), callbacks=[epoch_weights])"
   ]
  },
  {
   "cell_type": "markdown",
   "id": "4b36a99f",
   "metadata": {},
   "source": [
    "# Early Stopping Callback"
   ]
  },
  {
   "cell_type": "code",
   "execution_count": 14,
   "id": "0f10f2fc",
   "metadata": {},
   "outputs": [],
   "source": [
    "stop_early = callbacks.EarlyStopping(monitor='val_loss', restore_best_weights=True, patience=3)"
   ]
  },
  {
   "cell_type": "code",
   "execution_count": 15,
   "id": "640ca3b9",
   "metadata": {},
   "outputs": [
    {
     "name": "stdout",
     "output_type": "stream",
     "text": [
      "Epoch 1/500\n",
      "30/30 [==============================] - 0s 3ms/step - loss: 1.7455 - val_loss: 1.6408\n",
      "Epoch 2/500\n",
      "30/30 [==============================] - 0s 3ms/step - loss: 1.6774 - val_loss: 1.5802\n",
      "Epoch 3/500\n",
      "30/30 [==============================] - 0s 3ms/step - loss: 1.6121 - val_loss: 1.5212\n",
      "Epoch 4/500\n",
      "30/30 [==============================] - 0s 3ms/step - loss: 1.5489 - val_loss: 1.4640\n",
      "Epoch 5/500\n",
      "30/30 [==============================] - 0s 3ms/step - loss: 1.4877 - val_loss: 1.4085\n",
      "Epoch 6/500\n",
      "30/30 [==============================] - 0s 3ms/step - loss: 1.4287 - val_loss: 1.3545\n",
      "Epoch 7/500\n",
      "30/30 [==============================] - 0s 3ms/step - loss: 1.3713 - val_loss: 1.3022\n",
      "Epoch 8/500\n",
      "30/30 [==============================] - 0s 3ms/step - loss: 1.3159 - val_loss: 1.2514\n",
      "Epoch 9/500\n",
      "30/30 [==============================] - 0s 2ms/step - loss: 1.2624 - val_loss: 1.2022\n",
      "Epoch 10/500\n",
      "30/30 [==============================] - 0s 3ms/step - loss: 1.2107 - val_loss: 1.1544\n",
      "Epoch 11/500\n",
      "30/30 [==============================] - 0s 3ms/step - loss: 1.1605 - val_loss: 1.1080\n",
      "Epoch 12/500\n",
      "30/30 [==============================] - 0s 3ms/step - loss: 1.1125 - val_loss: 1.0632\n",
      "Epoch 13/500\n",
      "30/30 [==============================] - 0s 3ms/step - loss: 1.0654 - val_loss: 1.0196\n",
      "Epoch 14/500\n",
      "30/30 [==============================] - 0s 3ms/step - loss: 1.0204 - val_loss: 0.9774\n",
      "Epoch 15/500\n",
      "30/30 [==============================] - 0s 3ms/step - loss: 0.9766 - val_loss: 0.9364\n",
      "Epoch 16/500\n",
      "30/30 [==============================] - 0s 3ms/step - loss: 0.9345 - val_loss: 0.8968\n",
      "Epoch 17/500\n",
      "30/30 [==============================] - 0s 3ms/step - loss: 0.8938 - val_loss: 0.8585\n",
      "Epoch 18/500\n",
      "30/30 [==============================] - 0s 3ms/step - loss: 0.8544 - val_loss: 0.8214\n",
      "Epoch 19/500\n",
      "30/30 [==============================] - 0s 3ms/step - loss: 0.8165 - val_loss: 0.7856\n",
      "Epoch 20/500\n",
      "30/30 [==============================] - 0s 3ms/step - loss: 0.7798 - val_loss: 0.7508\n",
      "Epoch 21/500\n",
      "30/30 [==============================] - 0s 3ms/step - loss: 0.7445 - val_loss: 0.7172\n",
      "Epoch 22/500\n",
      "30/30 [==============================] - 0s 3ms/step - loss: 0.7104 - val_loss: 0.6848\n",
      "Epoch 23/500\n",
      "30/30 [==============================] - 0s 3ms/step - loss: 0.6775 - val_loss: 0.6534\n",
      "Epoch 24/500\n",
      "30/30 [==============================] - 0s 3ms/step - loss: 0.6458 - val_loss: 0.6232\n",
      "Epoch 25/500\n",
      "30/30 [==============================] - 0s 3ms/step - loss: 0.6153 - val_loss: 0.5939\n",
      "Epoch 26/500\n",
      "30/30 [==============================] - 0s 3ms/step - loss: 0.5859 - val_loss: 0.5656\n",
      "Epoch 27/500\n",
      "30/30 [==============================] - 0s 3ms/step - loss: 0.5576 - val_loss: 0.5386\n",
      "Epoch 28/500\n",
      "30/30 [==============================] - 0s 3ms/step - loss: 0.5303 - val_loss: 0.5125\n",
      "Epoch 29/500\n",
      "30/30 [==============================] - 0s 3ms/step - loss: 0.5040 - val_loss: 0.4873\n",
      "Epoch 30/500\n",
      "30/30 [==============================] - 0s 2ms/step - loss: 0.4788 - val_loss: 0.4629\n",
      "Epoch 31/500\n",
      "30/30 [==============================] - 0s 2ms/step - loss: 0.4546 - val_loss: 0.4396\n",
      "Epoch 32/500\n",
      "30/30 [==============================] - 0s 2ms/step - loss: 0.4313 - val_loss: 0.4173\n",
      "Epoch 33/500\n",
      "30/30 [==============================] - 0s 3ms/step - loss: 0.4090 - val_loss: 0.3957\n",
      "Epoch 34/500\n",
      "30/30 [==============================] - 0s 3ms/step - loss: 0.3875 - val_loss: 0.3749\n",
      "Epoch 35/500\n",
      "30/30 [==============================] - 0s 3ms/step - loss: 0.3670 - val_loss: 0.3551\n",
      "Epoch 36/500\n",
      "30/30 [==============================] - 0s 3ms/step - loss: 0.3473 - val_loss: 0.3359\n",
      "Epoch 37/500\n",
      "30/30 [==============================] - 0s 2ms/step - loss: 0.3284 - val_loss: 0.3177\n",
      "Epoch 38/500\n",
      "30/30 [==============================] - 0s 3ms/step - loss: 0.3103 - val_loss: 0.3001\n",
      "Epoch 39/500\n",
      "30/30 [==============================] - 0s 2ms/step - loss: 0.2930 - val_loss: 0.2834\n",
      "Epoch 40/500\n",
      "30/30 [==============================] - 0s 2ms/step - loss: 0.2765 - val_loss: 0.2673\n",
      "Epoch 41/500\n",
      "30/30 [==============================] - 0s 2ms/step - loss: 0.2607 - val_loss: 0.2521\n",
      "Epoch 42/500\n",
      "30/30 [==============================] - 0s 3ms/step - loss: 0.2456 - val_loss: 0.2374\n",
      "Epoch 43/500\n",
      "30/30 [==============================] - 0s 3ms/step - loss: 0.2312 - val_loss: 0.2235\n",
      "Epoch 44/500\n",
      "30/30 [==============================] - 0s 3ms/step - loss: 0.2174 - val_loss: 0.2101\n",
      "Epoch 45/500\n",
      "30/30 [==============================] - 0s 3ms/step - loss: 0.2043 - val_loss: 0.1974\n",
      "Epoch 46/500\n",
      "30/30 [==============================] - 0s 3ms/step - loss: 0.1919 - val_loss: 0.1853\n",
      "Epoch 47/500\n",
      "30/30 [==============================] - 0s 3ms/step - loss: 0.1800 - val_loss: 0.1738\n",
      "Epoch 48/500\n",
      "30/30 [==============================] - 0s 3ms/step - loss: 0.1687 - val_loss: 0.1629\n",
      "Epoch 49/500\n",
      "30/30 [==============================] - 0s 2ms/step - loss: 0.1580 - val_loss: 0.1525\n",
      "Epoch 50/500\n",
      "30/30 [==============================] - 0s 3ms/step - loss: 0.1479 - val_loss: 0.1426\n",
      "Epoch 51/500\n",
      "30/30 [==============================] - 0s 3ms/step - loss: 0.1382 - val_loss: 0.1333\n",
      "Epoch 52/500\n",
      "30/30 [==============================] - 0s 3ms/step - loss: 0.1291 - val_loss: 0.1245\n",
      "Epoch 53/500\n",
      "30/30 [==============================] - 0s 3ms/step - loss: 0.1204 - val_loss: 0.1160\n",
      "Epoch 54/500\n",
      "30/30 [==============================] - 0s 3ms/step - loss: 0.1122 - val_loss: 0.1081\n",
      "Epoch 55/500\n",
      "30/30 [==============================] - 0s 3ms/step - loss: 0.1045 - val_loss: 0.1006\n",
      "Epoch 56/500\n",
      "30/30 [==============================] - 0s 3ms/step - loss: 0.0972 - val_loss: 0.0935\n",
      "Epoch 57/500\n",
      "30/30 [==============================] - 0s 2ms/step - loss: 0.0903 - val_loss: 0.0869\n",
      "Epoch 58/500\n",
      "30/30 [==============================] - 0s 2ms/step - loss: 0.0839 - val_loss: 0.0806\n",
      "Epoch 59/500\n",
      "30/30 [==============================] - 0s 2ms/step - loss: 0.0778 - val_loss: 0.0747\n",
      "Epoch 60/500\n",
      "30/30 [==============================] - 0s 3ms/step - loss: 0.0720 - val_loss: 0.0691\n",
      "Epoch 61/500\n",
      "30/30 [==============================] - 0s 3ms/step - loss: 0.0666 - val_loss: 0.0639\n",
      "Epoch 62/500\n",
      "30/30 [==============================] - 0s 3ms/step - loss: 0.0616 - val_loss: 0.0591\n",
      "Epoch 63/500\n",
      "30/30 [==============================] - 0s 3ms/step - loss: 0.0568 - val_loss: 0.0545\n",
      "Epoch 64/500\n",
      "30/30 [==============================] - 0s 2ms/step - loss: 0.0524 - val_loss: 0.0502\n",
      "Epoch 65/500\n",
      "30/30 [==============================] - 0s 3ms/step - loss: 0.0483 - val_loss: 0.0462\n",
      "Epoch 66/500\n",
      "30/30 [==============================] - 0s 3ms/step - loss: 0.0444 - val_loss: 0.0425\n",
      "Epoch 67/500\n",
      "30/30 [==============================] - 0s 3ms/step - loss: 0.0408 - val_loss: 0.0390\n",
      "Epoch 68/500\n",
      "30/30 [==============================] - 0s 3ms/step - loss: 0.0374 - val_loss: 0.0357\n",
      "Epoch 69/500\n",
      "30/30 [==============================] - 0s 3ms/step - loss: 0.0343 - val_loss: 0.0327\n",
      "Epoch 70/500\n",
      "30/30 [==============================] - 0s 3ms/step - loss: 0.0313 - val_loss: 0.0299\n",
      "Epoch 71/500\n",
      "30/30 [==============================] - 0s 3ms/step - loss: 0.0286 - val_loss: 0.0273\n",
      "Epoch 72/500\n",
      "30/30 [==============================] - 0s 3ms/step - loss: 0.0261 - val_loss: 0.0249\n",
      "Epoch 73/500\n",
      "30/30 [==============================] - 0s 3ms/step - loss: 0.0238 - val_loss: 0.0227\n",
      "Epoch 74/500\n",
      "30/30 [==============================] - 0s 3ms/step - loss: 0.0217 - val_loss: 0.0206\n",
      "Epoch 75/500\n",
      "30/30 [==============================] - 0s 3ms/step - loss: 0.0197 - val_loss: 0.0187\n",
      "Epoch 76/500\n",
      "30/30 [==============================] - 0s 3ms/step - loss: 0.0179 - val_loss: 0.0170\n",
      "Epoch 77/500\n",
      "30/30 [==============================] - 0s 3ms/step - loss: 0.0162 - val_loss: 0.0154\n",
      "Epoch 78/500\n",
      "30/30 [==============================] - 0s 2ms/step - loss: 0.0146 - val_loss: 0.0139\n",
      "Epoch 79/500\n",
      "30/30 [==============================] - 0s 3ms/step - loss: 0.0132 - val_loss: 0.0125\n",
      "Epoch 80/500\n",
      "30/30 [==============================] - 0s 3ms/step - loss: 0.0119 - val_loss: 0.0113\n",
      "Epoch 81/500\n",
      "30/30 [==============================] - 0s 3ms/step - loss: 0.0107 - val_loss: 0.0101\n",
      "Epoch 82/500\n",
      "30/30 [==============================] - 0s 2ms/step - loss: 0.0096 - val_loss: 0.0091\n",
      "Epoch 83/500\n"
     ]
    },
    {
     "name": "stdout",
     "output_type": "stream",
     "text": [
      "30/30 [==============================] - 0s 3ms/step - loss: 0.0086 - val_loss: 0.0082\n",
      "Epoch 84/500\n",
      "30/30 [==============================] - 0s 2ms/step - loss: 0.0077 - val_loss: 0.0073\n",
      "Epoch 85/500\n",
      "30/30 [==============================] - 0s 2ms/step - loss: 0.0069 - val_loss: 0.0065\n",
      "Epoch 86/500\n",
      "30/30 [==============================] - 0s 3ms/step - loss: 0.0062 - val_loss: 0.0058\n",
      "Epoch 87/500\n",
      "30/30 [==============================] - 0s 2ms/step - loss: 0.0055 - val_loss: 0.0052\n",
      "Epoch 88/500\n",
      "30/30 [==============================] - 0s 2ms/step - loss: 0.0049 - val_loss: 0.0046\n",
      "Epoch 89/500\n",
      "30/30 [==============================] - 0s 2ms/step - loss: 0.0044 - val_loss: 0.0041\n",
      "Epoch 90/500\n",
      "30/30 [==============================] - 0s 2ms/step - loss: 0.0039 - val_loss: 0.0036\n",
      "Epoch 91/500\n",
      "30/30 [==============================] - 0s 3ms/step - loss: 0.0034 - val_loss: 0.0032\n",
      "Epoch 92/500\n",
      "30/30 [==============================] - 0s 3ms/step - loss: 0.0030 - val_loss: 0.0028\n",
      "Epoch 93/500\n",
      "30/30 [==============================] - 0s 3ms/step - loss: 0.0027 - val_loss: 0.0025\n",
      "Epoch 94/500\n",
      "30/30 [==============================] - 0s 3ms/step - loss: 0.0023 - val_loss: 0.0022\n",
      "Epoch 95/500\n",
      "30/30 [==============================] - 0s 3ms/step - loss: 0.0020 - val_loss: 0.0019\n",
      "Epoch 96/500\n",
      "30/30 [==============================] - 0s 3ms/step - loss: 0.0018 - val_loss: 0.0017\n",
      "Epoch 97/500\n",
      "30/30 [==============================] - 0s 3ms/step - loss: 0.0016 - val_loss: 0.0015\n",
      "Epoch 98/500\n",
      "30/30 [==============================] - 0s 3ms/step - loss: 0.0014 - val_loss: 0.0013\n",
      "Epoch 99/500\n",
      "30/30 [==============================] - 0s 3ms/step - loss: 0.0012 - val_loss: 0.0011\n",
      "Epoch 100/500\n",
      "30/30 [==============================] - 0s 3ms/step - loss: 0.0010 - val_loss: 9.5664e-04\n",
      "Epoch 101/500\n",
      "30/30 [==============================] - 0s 3ms/step - loss: 8.9397e-04 - val_loss: 8.2898e-04\n",
      "Epoch 102/500\n",
      "30/30 [==============================] - 0s 3ms/step - loss: 7.7266e-04 - val_loss: 7.1561e-04\n",
      "Epoch 103/500\n",
      "30/30 [==============================] - 0s 2ms/step - loss: 6.6641e-04 - val_loss: 6.1642e-04\n",
      "Epoch 104/500\n",
      "30/30 [==============================] - 0s 3ms/step - loss: 5.7327e-04 - val_loss: 5.2955e-04\n",
      "Epoch 105/500\n",
      "30/30 [==============================] - 0s 3ms/step - loss: 4.9214e-04 - val_loss: 4.5358e-04\n",
      "Epoch 106/500\n",
      "30/30 [==============================] - 0s 3ms/step - loss: 4.2138e-04 - val_loss: 3.8831e-04\n",
      "Epoch 107/500\n",
      "30/30 [==============================] - 0s 3ms/step - loss: 3.5994e-04 - val_loss: 3.3130e-04\n",
      "Epoch 108/500\n",
      "30/30 [==============================] - 0s 3ms/step - loss: 3.0666e-04 - val_loss: 2.8167e-04\n",
      "Epoch 109/500\n",
      "30/30 [==============================] - 0s 3ms/step - loss: 2.6066e-04 - val_loss: 2.3906e-04\n",
      "Epoch 110/500\n",
      "30/30 [==============================] - 0s 3ms/step - loss: 2.2093e-04 - val_loss: 2.0250e-04\n",
      "Epoch 111/500\n",
      "30/30 [==============================] - 0s 3ms/step - loss: 1.8679e-04 - val_loss: 1.7101e-04\n",
      "Epoch 112/500\n",
      "30/30 [==============================] - 0s 3ms/step - loss: 1.5755e-04 - val_loss: 1.4398e-04\n",
      "Epoch 113/500\n",
      "30/30 [==============================] - 0s 3ms/step - loss: 1.3246e-04 - val_loss: 1.2085e-04\n",
      "Epoch 114/500\n",
      "30/30 [==============================] - 0s 3ms/step - loss: 1.1116e-04 - val_loss: 1.0107e-04\n",
      "Epoch 115/500\n",
      "30/30 [==============================] - 0s 2ms/step - loss: 9.2927e-05 - val_loss: 8.4500e-05\n",
      "Epoch 116/500\n",
      "30/30 [==============================] - 0s 2ms/step - loss: 7.7499e-05 - val_loss: 7.0379e-05\n",
      "Epoch 117/500\n",
      "30/30 [==============================] - 0s 2ms/step - loss: 6.4444e-05 - val_loss: 5.8445e-05\n",
      "Epoch 118/500\n",
      "30/30 [==============================] - 0s 2ms/step - loss: 5.3439e-05 - val_loss: 4.8403e-05\n",
      "Epoch 119/500\n",
      "30/30 [==============================] - 0s 2ms/step - loss: 4.4188e-05 - val_loss: 3.9926e-05\n",
      "Epoch 120/500\n",
      "30/30 [==============================] - 0s 2ms/step - loss: 3.6416e-05 - val_loss: 3.2861e-05\n",
      "Epoch 121/500\n",
      "30/30 [==============================] - 0s 2ms/step - loss: 2.9929e-05 - val_loss: 2.6949e-05\n",
      "Epoch 122/500\n",
      "30/30 [==============================] - 0s 2ms/step - loss: 2.4519e-05 - val_loss: 2.2067e-05\n",
      "Epoch 123/500\n",
      "30/30 [==============================] - 0s 2ms/step - loss: 2.0017e-05 - val_loss: 1.7981e-05\n",
      "Epoch 124/500\n",
      "30/30 [==============================] - 0s 2ms/step - loss: 1.6297e-05 - val_loss: 1.4603e-05\n",
      "Epoch 125/500\n",
      "30/30 [==============================] - 0s 2ms/step - loss: 1.3220e-05 - val_loss: 1.1824e-05\n",
      "Epoch 126/500\n",
      "30/30 [==============================] - 0s 2ms/step - loss: 1.0695e-05 - val_loss: 9.5646e-06\n",
      "Epoch 127/500\n",
      "30/30 [==============================] - 0s 2ms/step - loss: 8.6166e-06 - val_loss: 7.6855e-06\n",
      "Epoch 128/500\n",
      "30/30 [==============================] - 0s 2ms/step - loss: 6.9207e-06 - val_loss: 6.1609e-06\n",
      "Epoch 129/500\n",
      "30/30 [==============================] - 0s 2ms/step - loss: 5.5413e-06 - val_loss: 4.9238e-06\n",
      "Epoch 130/500\n",
      "30/30 [==============================] - 0s 2ms/step - loss: 4.4189e-06 - val_loss: 3.9132e-06\n",
      "Epoch 131/500\n",
      "30/30 [==============================] - 0s 2ms/step - loss: 3.5117e-06 - val_loss: 3.1034e-06\n",
      "Epoch 132/500\n",
      "30/30 [==============================] - 0s 3ms/step - loss: 2.7810e-06 - val_loss: 2.4561e-06\n",
      "Epoch 133/500\n",
      "30/30 [==============================] - 0s 2ms/step - loss: 2.1946e-06 - val_loss: 1.9364e-06\n",
      "Epoch 134/500\n",
      "30/30 [==============================] - 0s 2ms/step - loss: 1.7248e-06 - val_loss: 1.5170e-06\n",
      "Epoch 135/500\n",
      "30/30 [==============================] - 0s 2ms/step - loss: 1.3504e-06 - val_loss: 1.1844e-06\n",
      "Epoch 136/500\n",
      "30/30 [==============================] - 0s 2ms/step - loss: 1.0534e-06 - val_loss: 9.2217e-07\n",
      "Epoch 137/500\n",
      "30/30 [==============================] - 0s 2ms/step - loss: 8.1822e-07 - val_loss: 7.1434e-07\n",
      "Epoch 138/500\n",
      "30/30 [==============================] - 0s 2ms/step - loss: 6.3289e-07 - val_loss: 5.5138e-07\n",
      "Epoch 139/500\n",
      "30/30 [==============================] - 0s 2ms/step - loss: 4.8772e-07 - val_loss: 4.2463e-07\n",
      "Epoch 140/500\n",
      "30/30 [==============================] - 0s 2ms/step - loss: 3.7418e-07 - val_loss: 3.2445e-07\n",
      "Epoch 141/500\n",
      "30/30 [==============================] - 0s 2ms/step - loss: 2.8594e-07 - val_loss: 2.4800e-07\n",
      "Epoch 142/500\n",
      "30/30 [==============================] - 0s 2ms/step - loss: 2.1754e-07 - val_loss: 1.8786e-07\n",
      "Epoch 143/500\n",
      "30/30 [==============================] - 0s 3ms/step - loss: 1.6477e-07 - val_loss: 1.4200e-07\n",
      "Epoch 144/500\n",
      "30/30 [==============================] - 0s 2ms/step - loss: 1.2431e-07 - val_loss: 1.0708e-07\n",
      "Epoch 145/500\n",
      "30/30 [==============================] - 0s 2ms/step - loss: 9.3322e-08 - val_loss: 7.9862e-08\n",
      "Epoch 146/500\n",
      "30/30 [==============================] - 0s 2ms/step - loss: 6.9775e-08 - val_loss: 5.9753e-08\n",
      "Epoch 147/500\n",
      "30/30 [==============================] - 0s 2ms/step - loss: 5.1948e-08 - val_loss: 4.4382e-08\n",
      "Epoch 148/500\n",
      "30/30 [==============================] - 0s 2ms/step - loss: 3.8473e-08 - val_loss: 3.2727e-08\n",
      "Epoch 149/500\n",
      "30/30 [==============================] - 0s 2ms/step - loss: 2.8342e-08 - val_loss: 2.4011e-08\n",
      "Epoch 150/500\n",
      "30/30 [==============================] - 0s 3ms/step - loss: 2.0782e-08 - val_loss: 1.7667e-08\n",
      "Epoch 151/500\n",
      "30/30 [==============================] - 0s 3ms/step - loss: 1.5158e-08 - val_loss: 1.2866e-08\n",
      "Epoch 152/500\n",
      "30/30 [==============================] - 0s 3ms/step - loss: 1.1009e-08 - val_loss: 9.2514e-09\n",
      "Epoch 153/500\n",
      "30/30 [==============================] - 0s 3ms/step - loss: 7.9917e-09 - val_loss: 6.6888e-09\n",
      "Epoch 154/500\n",
      "30/30 [==============================] - 0s 3ms/step - loss: 5.6999e-09 - val_loss: 4.7997e-09\n",
      "Epoch 155/500\n",
      "30/30 [==============================] - 0s 3ms/step - loss: 4.1317e-09 - val_loss: 3.4332e-09\n",
      "Epoch 156/500\n",
      "30/30 [==============================] - 0s 3ms/step - loss: 2.8863e-09 - val_loss: 2.4149e-09\n",
      "Epoch 157/500\n",
      "30/30 [==============================] - 0s 3ms/step - loss: 2.0895e-09 - val_loss: 1.7623e-09\n",
      "Epoch 158/500\n",
      "30/30 [==============================] - 0s 3ms/step - loss: 1.4872e-09 - val_loss: 1.2136e-09\n",
      "Epoch 159/500\n",
      "30/30 [==============================] - 0s 2ms/step - loss: 9.9080e-10 - val_loss: 8.0578e-10\n",
      "Epoch 160/500\n",
      "30/30 [==============================] - 0s 2ms/step - loss: 7.1123e-10 - val_loss: 6.1572e-10\n",
      "Epoch 161/500\n",
      "30/30 [==============================] - 0s 2ms/step - loss: 5.3338e-10 - val_loss: 4.5057e-10\n",
      "Epoch 162/500\n",
      "30/30 [==============================] - 0s 2ms/step - loss: 3.8102e-10 - val_loss: 3.1193e-10\n",
      "Epoch 163/500\n",
      "30/30 [==============================] - 0s 2ms/step - loss: 2.5437e-10 - val_loss: 1.9830e-10\n",
      "Epoch 164/500\n",
      "30/30 [==============================] - 0s 2ms/step - loss: 1.5341e-10 - val_loss: 1.1046e-10\n",
      "Epoch 165/500\n",
      "30/30 [==============================] - 0s 3ms/step - loss: 8.2854e-11 - val_loss: 7.2131e-11\n",
      "Epoch 166/500\n",
      "30/30 [==============================] - 0s 3ms/step - loss: 7.1701e-11 - val_loss: 7.2131e-11\n",
      "Epoch 167/500\n",
      "30/30 [==============================] - 0s 2ms/step - loss: 7.1701e-11 - val_loss: 7.2131e-11\n",
      "Epoch 168/500\n",
      "30/30 [==============================] - 0s 2ms/step - loss: 7.1701e-11 - val_loss: 7.2131e-11\n"
     ]
    },
    {
     "data": {
      "text/plain": [
       "<keras.callbacks.History at 0x14a352d30>"
      ]
     },
     "execution_count": 15,
     "metadata": {},
     "output_type": "execute_result"
    }
   ],
   "source": [
    "model.fit(x_train, y_train, epochs=500, validation_data=(x_test, y_test), callbacks=[stop_early])"
   ]
  },
  {
   "cell_type": "markdown",
   "id": "a0838392",
   "metadata": {},
   "source": [
    "# CSV Logger Callback"
   ]
  },
  {
   "cell_type": "code",
   "execution_count": 16,
   "id": "ce942113",
   "metadata": {},
   "outputs": [],
   "source": [
    "log_results = callbacks.CSVLogger('training.csv')"
   ]
  },
  {
   "cell_type": "code",
   "execution_count": 17,
   "id": "f575194e",
   "metadata": {},
   "outputs": [
    {
     "name": "stdout",
     "output_type": "stream",
     "text": [
      "Epoch 1/5\n",
      "30/30 [==============================] - 0s 3ms/step - loss: 7.1701e-11 - val_loss: 7.2131e-11\n",
      "Epoch 2/5\n",
      "30/30 [==============================] - 0s 3ms/step - loss: 7.1701e-11 - val_loss: 7.2131e-11\n",
      "Epoch 3/5\n",
      "30/30 [==============================] - 0s 3ms/step - loss: 7.1701e-11 - val_loss: 7.2131e-11\n",
      "Epoch 4/5\n",
      "30/30 [==============================] - 0s 3ms/step - loss: 7.1701e-11 - val_loss: 7.2131e-11\n",
      "Epoch 5/5\n",
      "30/30 [==============================] - 0s 2ms/step - loss: 7.1270e-11 - val_loss: 6.8020e-11\n"
     ]
    },
    {
     "data": {
      "text/plain": [
       "<keras.callbacks.History at 0x14a3f8550>"
      ]
     },
     "execution_count": 17,
     "metadata": {},
     "output_type": "execute_result"
    }
   ],
   "source": [
    "model.fit(x_train, y_train, epochs=5, validation_data=(x_test, y_test), callbacks=[log_results])"
   ]
  }
 ],
 "metadata": {
  "kernelspec": {
   "display_name": "Python 3 (ipykernel)",
   "language": "python",
   "name": "python3"
  },
  "language_info": {
   "codemirror_mode": {
    "name": "ipython",
    "version": 3
   },
   "file_extension": ".py",
   "mimetype": "text/x-python",
   "name": "python",
   "nbconvert_exporter": "python",
   "pygments_lexer": "ipython3",
   "version": "3.9.9"
  }
 },
 "nbformat": 4,
 "nbformat_minor": 5
}
