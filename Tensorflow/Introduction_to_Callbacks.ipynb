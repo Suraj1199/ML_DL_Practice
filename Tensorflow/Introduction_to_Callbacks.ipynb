{
 "cells": [
  {
   "cell_type": "code",
   "execution_count": 1,
   "id": "c2c062f4",
   "metadata": {},
   "outputs": [],
   "source": [
    "import numpy as np\n",
    "import pandas as pd\n",
    "import tensorflow\n",
    "from tensorflow.keras import *\n",
    "import datetime\n",
    "import os"
   ]
  },
  {
   "cell_type": "markdown",
   "id": "130eb9c8",
   "metadata": {},
   "source": [
    "### Data "
   ]
  },
  {
   "cell_type": "code",
   "execution_count": 3,
   "id": "8b07afcd",
   "metadata": {},
   "outputs": [],
   "source": [
    "x = np.random.randn(1024, 1)\n",
    "y = 1.25 * x + 2\n",
    "x_train, x_test, y_train, y_test = x[:-64], x[-64:] , y[:-64], y[-64:]"
   ]
  },
  {
   "cell_type": "markdown",
   "id": "2f581b48",
   "metadata": {},
   "source": [
    "### Model"
   ]
  },
  {
   "cell_type": "code",
   "execution_count": null,
   "id": "b7239822",
   "metadata": {},
   "outputs": [],
   "source": [
    "model = Sequential([layers.Dense(1)])\n",
    "model.compile(optimizer=\"adam\", loss=\"mse\")"
   ]
  },
  {
   "cell_type": "markdown",
   "id": "a004155d",
   "metadata": {},
   "source": [
    "# TensorBoard Callback"
   ]
  },
  {
   "cell_type": "code",
   "execution_count": 2,
   "id": "4bb5b42a",
   "metadata": {},
   "outputs": [],
   "source": [
    "log_dir = os.path.join(\"logs\", datetime.datetime.now().strftime(\"%Y%m%d-%H%M%S\"))\n",
    "tensorboard = callbacks.TensorBoard(log_dir=log_dir)"
   ]
  },
  {
   "cell_type": "markdown",
   "id": "c7a6c33d",
   "metadata": {},
   "source": [
    "### Data "
   ]
  },
  {
   "cell_type": "code",
   "execution_count": 3,
   "id": "d61bd7ab",
   "metadata": {},
   "outputs": [],
   "source": [
    "x = np.random.randn(1024, 1)\n",
    "y = 1.25 * x + 2\n",
    "x_train, x_test, y_train, y_test = x[:-64], x[-64:] , y[:-64], y[-64:]"
   ]
  },
  {
   "cell_type": "markdown",
   "id": "bc395db1",
   "metadata": {},
   "source": [
    "### Model"
   ]
  },
  {
   "cell_type": "code",
   "execution_count": null,
   "id": "00b6a13c",
   "metadata": {},
   "outputs": [],
   "source": [
    "model = Sequential([layers.Dense(1)])\n",
    "model.compile(optimizer=\"adam\", loss=\"mse\")"
   ]
  },
  {
   "cell_type": "code",
   "execution_count": 4,
   "id": "431f531d",
   "metadata": {},
   "outputs": [
    {
     "name": "stdout",
     "output_type": "stream",
     "text": [
      "Metal device set to: Apple M1\n",
      "Epoch 1/5\n",
      "\r",
      " 1/30 [>.............................] - ETA: 3s - loss: 4.2761"
     ]
    },
    {
     "name": "stderr",
     "output_type": "stream",
     "text": [
      "2022-02-10 08:17:15.444639: I tensorflow/core/common_runtime/pluggable_device/pluggable_device_factory.cc:305] Could not identify NUMA node of platform GPU ID 0, defaulting to 0. Your kernel may not have been built with NUMA support.\n",
      "2022-02-10 08:17:15.444719: I tensorflow/core/common_runtime/pluggable_device/pluggable_device_factory.cc:271] Created TensorFlow device (/job:localhost/replica:0/task:0/device:GPU:0 with 0 MB memory) -> physical PluggableDevice (device: 0, name: METAL, pci bus id: <undefined>)\n",
      "2022-02-10 08:17:15.481510: W tensorflow/core/platform/profile_utils/cpu_utils.cc:128] Failed to get CPU frequency: 0 Hz\n",
      "2022-02-10 08:17:15.562020: I tensorflow/core/grappler/optimizers/custom_graph_optimizer_registry.cc:112] Plugin optimizer for device_type GPU is enabled.\n"
     ]
    },
    {
     "name": "stdout",
     "output_type": "stream",
     "text": [
      "30/30 [==============================] - 0s 4ms/step - loss: 4.4007 - val_loss: 3.8943\n",
      "Epoch 2/5\n",
      "30/30 [==============================] - 0s 3ms/step - loss: 4.2512 - val_loss: 3.7725\n",
      "Epoch 3/5\n",
      "30/30 [==============================] - 0s 3ms/step - loss: 4.1047 - val_loss: 3.6526\n",
      "Epoch 4/5\n",
      " 1/30 [>.............................] - ETA: 0s - loss: 3.6970"
     ]
    },
    {
     "name": "stderr",
     "output_type": "stream",
     "text": [
      "2022-02-10 08:17:15.711314: I tensorflow/core/grappler/optimizers/custom_graph_optimizer_registry.cc:112] Plugin optimizer for device_type GPU is enabled.\n"
     ]
    },
    {
     "name": "stdout",
     "output_type": "stream",
     "text": [
      "30/30 [==============================] - 0s 3ms/step - loss: 3.9631 - val_loss: 3.5342\n",
      "Epoch 5/5\n",
      "30/30 [==============================] - 0s 3ms/step - loss: 3.8232 - val_loss: 3.4205\n"
     ]
    },
    {
     "data": {
      "text/plain": [
       "<keras.callbacks.History at 0x13f4d1f70>"
      ]
     },
     "execution_count": 4,
     "metadata": {},
     "output_type": "execute_result"
    }
   ],
   "source": [
    "model.fit(x_train, y_train, epochs=5, validation_data=(x_test, y_test), callbacks=[tensorboard])"
   ]
  },
  {
   "cell_type": "code",
   "execution_count": 5,
   "id": "e1c356c5",
   "metadata": {
    "scrolled": false
   },
   "outputs": [
    {
     "data": {
      "text/html": [
       "\n",
       "      <iframe id=\"tensorboard-frame-4cc2d4c5f23c6f8d\" width=\"100%\" height=\"800\" frameborder=\"0\">\n",
       "      </iframe>\n",
       "      <script>\n",
       "        (function() {\n",
       "          const frame = document.getElementById(\"tensorboard-frame-4cc2d4c5f23c6f8d\");\n",
       "          const url = new URL(\"/\", window.location);\n",
       "          const port = 6006;\n",
       "          if (port) {\n",
       "            url.port = port;\n",
       "          }\n",
       "          frame.src = url;\n",
       "        })();\n",
       "      </script>\n",
       "    "
      ],
      "text/plain": [
       "<IPython.core.display.HTML object>"
      ]
     },
     "metadata": {},
     "output_type": "display_data"
    }
   ],
   "source": [
    "%load_ext tensorboard\n",
    "%tensorboard --logdir logs"
   ]
  },
  {
   "cell_type": "markdown",
   "id": "8bc7bfb6",
   "metadata": {},
   "source": [
    "---"
   ]
  },
  {
   "cell_type": "markdown",
   "id": "bb70a6ab",
   "metadata": {},
   "source": [
    "# Model Checkpoint Callback"
   ]
  },
  {
   "cell_type": "markdown",
   "id": "30be6a8b",
   "metadata": {},
   "source": [
    "### Save Model"
   ]
  },
  {
   "cell_type": "code",
   "execution_count": 6,
   "id": "64617db2",
   "metadata": {},
   "outputs": [],
   "source": [
    "save_model = callbacks.ModelCheckpoint(\"model.h\", verbose=1)"
   ]
  },
  {
   "cell_type": "code",
   "execution_count": 7,
   "id": "4b0efd53",
   "metadata": {},
   "outputs": [
    {
     "name": "stdout",
     "output_type": "stream",
     "text": [
      "Epoch 1/5\n",
      "25/30 [========================>.....] - ETA: 0s - loss: 3.7011\n",
      "Epoch 00001: saving model to model.h\n",
      "INFO:tensorflow:Assets written to: model.h/assets\n",
      "30/30 [==============================] - 0s 11ms/step - loss: 3.6893 - val_loss: 3.3093\n",
      "Epoch 2/5\n",
      "19/30 [==================>...........] - ETA: 0s - loss: 3.5601"
     ]
    },
    {
     "name": "stderr",
     "output_type": "stream",
     "text": [
      "2022-02-10 08:17:18.375954: W tensorflow/python/util/util.cc:368] Sets are not currently considered sequences, but this may change in the future, so consider avoiding using them.\n"
     ]
    },
    {
     "name": "stdout",
     "output_type": "stream",
     "text": [
      "\n",
      "Epoch 00002: saving model to model.h\n",
      "INFO:tensorflow:Assets written to: model.h/assets\n",
      "30/30 [==============================] - 0s 7ms/step - loss: 3.5593 - val_loss: 3.2011\n",
      "Epoch 3/5\n",
      "22/30 [=====================>........] - ETA: 0s - loss: 3.3987\n",
      "Epoch 00003: saving model to model.h\n",
      "INFO:tensorflow:Assets written to: model.h/assets\n",
      "30/30 [==============================] - 0s 6ms/step - loss: 3.4328 - val_loss: 3.0968\n",
      "Epoch 4/5\n",
      "26/30 [=========================>....] - ETA: 0s - loss: 3.2768\n",
      "Epoch 00004: saving model to model.h\n",
      "INFO:tensorflow:Assets written to: model.h/assets\n",
      "30/30 [==============================] - 0s 6ms/step - loss: 3.3112 - val_loss: 2.9945\n",
      "Epoch 5/5\n",
      "22/30 [=====================>........] - ETA: 0s - loss: 3.2175\n",
      "Epoch 00005: saving model to model.h\n",
      "INFO:tensorflow:Assets written to: model.h/assets\n",
      "30/30 [==============================] - 0s 6ms/step - loss: 3.1935 - val_loss: 2.8948\n"
     ]
    },
    {
     "data": {
      "text/plain": [
       "<keras.callbacks.History at 0x13f6b39a0>"
      ]
     },
     "execution_count": 7,
     "metadata": {},
     "output_type": "execute_result"
    }
   ],
   "source": [
    "model.fit(x_train, y_train, epochs=5, validation_data=(x_test, y_test), callbacks=[save_model])"
   ]
  },
  {
   "cell_type": "markdown",
   "id": "7b6bbbad",
   "metadata": {},
   "source": [
    "### Save Only Weights"
   ]
  },
  {
   "cell_type": "code",
   "execution_count": 8,
   "id": "a517c660",
   "metadata": {},
   "outputs": [],
   "source": [
    "save_weights = callbacks.ModelCheckpoint(\"model.h\", save_weights_only=True, verbose=1)"
   ]
  },
  {
   "cell_type": "code",
   "execution_count": 9,
   "id": "e4190ed2",
   "metadata": {},
   "outputs": [
    {
     "name": "stdout",
     "output_type": "stream",
     "text": [
      "Epoch 1/5\n",
      "24/30 [=======================>......] - ETA: 0s - loss: 3.0863\n",
      "Epoch 00001: saving model to model.h\n",
      "30/30 [==============================] - 0s 3ms/step - loss: 3.0791 - val_loss: 2.7984\n",
      "Epoch 2/5\n",
      "25/30 [========================>.....] - ETA: 0s - loss: 2.9910\n",
      "Epoch 00002: saving model to model.h\n",
      "30/30 [==============================] - 0s 3ms/step - loss: 2.9685 - val_loss: 2.7046\n",
      "Epoch 3/5\n",
      "25/30 [========================>.....] - ETA: 0s - loss: 2.8822\n",
      "Epoch 00003: saving model to model.h\n",
      "30/30 [==============================] - 0s 3ms/step - loss: 2.8612 - val_loss: 2.6137\n",
      "Epoch 4/5\n",
      "25/30 [========================>.....] - ETA: 0s - loss: 2.7455\n",
      "Epoch 00004: saving model to model.h\n",
      "30/30 [==============================] - 0s 3ms/step - loss: 2.7573 - val_loss: 2.5258\n",
      "Epoch 5/5\n",
      "25/30 [========================>.....] - ETA: 0s - loss: 2.6642\n",
      "Epoch 00005: saving model to model.h\n",
      "30/30 [==============================] - 0s 3ms/step - loss: 2.6572 - val_loss: 2.4395\n"
     ]
    },
    {
     "data": {
      "text/plain": [
       "<keras.callbacks.History at 0x14a2748e0>"
      ]
     },
     "execution_count": 9,
     "metadata": {},
     "output_type": "execute_result"
    }
   ],
   "source": [
    "model.fit(x_train, y_train, epochs=5, validation_data=(x_test, y_test), callbacks=[save_weights])"
   ]
  }
 ],
 "metadata": {
  "kernelspec": {
   "display_name": "Python 3 (ipykernel)",
   "language": "python",
   "name": "python3"
  },
  "language_info": {
   "codemirror_mode": {
    "name": "ipython",
    "version": 3
   },
   "file_extension": ".py",
   "mimetype": "text/x-python",
   "name": "python",
   "nbconvert_exporter": "python",
   "pygments_lexer": "ipython3",
   "version": "3.9.9"
  }
 },
 "nbformat": 4,
 "nbformat_minor": 5
}
