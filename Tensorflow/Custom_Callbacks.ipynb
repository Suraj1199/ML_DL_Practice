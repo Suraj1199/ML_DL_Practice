{
 "cells": [
  {
   "cell_type": "code",
   "execution_count": 1,
   "id": "d312200a",
   "metadata": {},
   "outputs": [],
   "source": [
    "import numpy as np\n",
    "import pandas as pd\n",
    "import tensorflow\n",
    "from tensorflow.keras import *\n",
    "import datetime\n",
    "import os"
   ]
  },
  {
   "cell_type": "code",
   "execution_count": 39,
   "id": "e829c4d3",
   "metadata": {},
   "outputs": [],
   "source": [
    "(X_train, y_train), (X_test, y_test) = datasets.mnist.load_data()"
   ]
  },
  {
   "cell_type": "markdown",
   "id": "c0c347a9",
   "metadata": {},
   "source": [
    "# Simple Custom Callback"
   ]
  },
  {
   "cell_type": "code",
   "execution_count": 40,
   "id": "41bebd79",
   "metadata": {},
   "outputs": [],
   "source": [
    "class CustomCallback(callbacks.Callback):\n",
    "    def on_train_batch_begin(self, batch, logs=None):\n",
    "        print(f\"Training Batch {batch} : Begin Time - {datetime.datetime.now()}\", end=\"\")\n",
    "    def on_train_batch_end(self, batch, logs=None):\n",
    "        print(f\" End Time - {datetime.datetime.now()}\")"
   ]
  },
  {
   "cell_type": "code",
   "execution_count": 41,
   "id": "d23b17a7",
   "metadata": {},
   "outputs": [],
   "source": [
    "simple_custom_callback = CustomCallback()"
   ]
  },
  {
   "cell_type": "code",
   "execution_count": 42,
   "id": "9abf9791",
   "metadata": {},
   "outputs": [
    {
     "name": "stdout",
     "output_type": "stream",
     "text": [
      "Training Batch 0 : Begin Time - 2022-02-10 09:19:25.358243 End Time - 2022-02-10 09:19:25.503221\n",
      "Training Batch 1 : Begin Time - 2022-02-10 09:19:25.503832 End Time - 2022-02-10 09:19:25.520911\n",
      "Training Batch 2 : Begin Time - 2022-02-10 09:19:25.521396 End Time - 2022-02-10 09:19:25.534641\n",
      "Training Batch 3 : Begin Time - 2022-02-10 09:19:25.535111 End Time - 2022-02-10 09:19:25.547920\n",
      "Training Batch 4 : Begin Time - 2022-02-10 09:19:25.548387 End Time - 2022-02-10 09:19:25.558484\n",
      "Training Batch 5 : Begin Time - 2022-02-10 09:19:25.558969"
     ]
    },
    {
     "name": "stderr",
     "output_type": "stream",
     "text": [
      "2022-02-10 09:19:25.435805: I tensorflow/core/grappler/optimizers/custom_graph_optimizer_registry.cc:112] Plugin optimizer for device_type GPU is enabled.\n"
     ]
    },
    {
     "name": "stdout",
     "output_type": "stream",
     "text": [
      " End Time - 2022-02-10 09:19:25.570085\n",
      "Training Batch 6 : Begin Time - 2022-02-10 09:19:25.570607 End Time - 2022-02-10 09:19:25.578689\n",
      "Training Batch 7 : Begin Time - 2022-02-10 09:19:25.579144 End Time - 2022-02-10 09:19:25.589392\n",
      "Training Batch 8 : Begin Time - 2022-02-10 09:19:25.589918 End Time - 2022-02-10 09:19:25.602334\n",
      "Training Batch 9 : Begin Time - 2022-02-10 09:19:25.602815 End Time - 2022-02-10 09:19:25.612175\n",
      "Training Batch 10 : Begin Time - 2022-02-10 09:19:25.612671 End Time - 2022-02-10 09:19:25.620637\n",
      "Training Batch 11 : Begin Time - 2022-02-10 09:19:25.621116 End Time - 2022-02-10 09:19:25.628975\n",
      "Training Batch 12 : Begin Time - 2022-02-10 09:19:25.629467 End Time - 2022-02-10 09:19:25.637763\n",
      "Training Batch 13 : Begin Time - 2022-02-10 09:19:25.638200 End Time - 2022-02-10 09:19:25.647427\n",
      "Training Batch 14 : Begin Time - 2022-02-10 09:19:25.647945 End Time - 2022-02-10 09:19:25.659433\n",
      "Training Batch 15 : Begin Time - 2022-02-10 09:19:25.659942 End Time - 2022-02-10 09:19:25.668423\n",
      "Training Batch 16 : Begin Time - 2022-02-10 09:19:25.668867 End Time - 2022-02-10 09:19:25.679301\n",
      "Training Batch 17 : Begin Time - 2022-02-10 09:19:25.679759 End Time - 2022-02-10 09:19:25.688622\n",
      "Training Batch 18 : Begin Time - 2022-02-10 09:19:25.689122 End Time - 2022-02-10 09:19:25.697954\n",
      "Training Batch 19 : Begin Time - 2022-02-10 09:19:25.698431 End Time - 2022-02-10 09:19:25.706940\n",
      "Training Batch 20 : Begin Time - 2022-02-10 09:19:25.707413 End Time - 2022-02-10 09:19:25.716326\n",
      "Training Batch 21 : Begin Time - 2022-02-10 09:19:25.716812 End Time - 2022-02-10 09:19:25.726157\n",
      "Training Batch 22 : Begin Time - 2022-02-10 09:19:25.726613 End Time - 2022-02-10 09:19:25.736097\n",
      "Training Batch 23 : Begin Time - 2022-02-10 09:19:25.736542 End Time - 2022-02-10 09:19:25.746353\n",
      "Training Batch 24 : Begin Time - 2022-02-10 09:19:25.746808 End Time - 2022-02-10 09:19:25.756660\n",
      "Training Batch 25 : Begin Time - 2022-02-10 09:19:25.757157 End Time - 2022-02-10 09:19:25.767378\n",
      "Training Batch 26 : Begin Time - 2022-02-10 09:19:25.767854 End Time - 2022-02-10 09:19:25.778637\n",
      "Training Batch 27 : Begin Time - 2022-02-10 09:19:25.779080 End Time - 2022-02-10 09:19:25.793300\n",
      "Training Batch 28 : Begin Time - 2022-02-10 09:19:25.793804 End Time - 2022-02-10 09:19:25.805130\n",
      "Training Batch 29 : Begin Time - 2022-02-10 09:19:25.805595 End Time - 2022-02-10 09:19:25.818328\n",
      "Training Batch 30 : Begin Time - 2022-02-10 09:19:25.818778 End Time - 2022-02-10 09:19:25.829803\n",
      "Training Batch 31 : Begin Time - 2022-02-10 09:19:25.830263 End Time - 2022-02-10 09:19:25.841408\n",
      "32/32 - 1s - loss: 22.9384 - acc: 0.7605 - val_loss: 5.5579 - val_acc: 0.9032 - 601ms/epoch - 19ms/step\n"
     ]
    },
    {
     "name": "stderr",
     "output_type": "stream",
     "text": [
      "2022-02-10 09:19:25.880799: I tensorflow/core/grappler/optimizers/custom_graph_optimizer_registry.cc:112] Plugin optimizer for device_type GPU is enabled.\n"
     ]
    },
    {
     "data": {
      "text/plain": [
       "<keras.callbacks.History at 0x2cd4ac880>"
      ]
     },
     "execution_count": 42,
     "metadata": {},
     "output_type": "execute_result"
    }
   ],
   "source": [
    "model = Sequential([layers.Flatten(), \n",
    "                    layers.Dense(512, activation='relu'), \n",
    "                    layers.Dense(10, activation='softmax')])\n",
    "model.compile(optimizer='adam', loss='sparse_categorical_crossentropy', metrics='acc')\n",
    "model.fit(X_train, y_train, epochs=1, batch_size= 1875, validation_data=(X_test, y_test), \n",
    "          callbacks=[simple_custom_callback], verbose=2)"
   ]
  }
 ],
 "metadata": {
  "kernelspec": {
   "display_name": "Python 3 (ipykernel)",
   "language": "python",
   "name": "python3"
  },
  "language_info": {
   "codemirror_mode": {
    "name": "ipython",
    "version": 3
   },
   "file_extension": ".py",
   "mimetype": "text/x-python",
   "name": "python",
   "nbconvert_exporter": "python",
   "pygments_lexer": "ipython3",
   "version": "3.9.9"
  }
 },
 "nbformat": 4,
 "nbformat_minor": 5
}
